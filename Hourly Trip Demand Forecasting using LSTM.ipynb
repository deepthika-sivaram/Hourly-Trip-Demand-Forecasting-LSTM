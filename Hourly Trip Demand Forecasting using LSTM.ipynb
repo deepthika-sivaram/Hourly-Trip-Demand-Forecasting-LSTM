{
 "cells": [
  {
   "cell_type": "markdown",
   "metadata": {},
   "source": [
    "Time-Series Forecasting using RNNs"
   ]
  },
  {
   "cell_type": "markdown",
   "metadata": {},
   "source": [
    "## Step 1: Data exploration and preprocessing"
   ]
  },
  {
   "cell_type": "markdown",
   "metadata": {},
   "source": [
    "### Import required libraries"
   ]
  },
  {
   "cell_type": "code",
   "execution_count": 1,
   "metadata": {},
   "outputs": [],
   "source": [
    "import numpy as np\n",
    "import pandas as pd\n",
    "import matplotlib.pyplot as plt\n",
    "import seaborn as sns\n",
    "from sklearn.preprocessing import MinMaxScaler\n",
    "from sklearn.metrics import mean_absolute_error, mean_squared_error, r2_score\n",
    "import torch\n",
    "import torch.nn as nn\n",
    "import torch.optim as optim\n",
    "from torch.utils.data import DataLoader, TensorDataset\n",
    "from torchinfo import summary\n",
    "from torch.utils.tensorboard import SummaryWriter\n",
    "import os\n",
    "from datetime import datetime\n",
    "from pandas.plotting import autocorrelation_plot\n",
    "import time\n",
    "import random\n",
    "import optuna"
   ]
  },
  {
   "cell_type": "markdown",
   "metadata": {},
   "source": [
    "### Setting Random Seed"
   ]
  },
  {
   "cell_type": "code",
   "execution_count": 2,
   "metadata": {},
   "outputs": [
    {
     "name": "stdout",
     "output_type": "stream",
     "text": [
      "Using device: cuda\n"
     ]
    }
   ],
   "source": [
    "device = torch.device('cuda' if torch.cuda.is_available() else 'cpu')\n",
    "# device = torch.device('mps' if torch.mps.is_available() else 'cpu')\n",
    "print(f\"Using device: {device}\")"
   ]
  },
  {
   "cell_type": "code",
   "execution_count": 3,
   "metadata": {},
   "outputs": [],
   "source": [
    "train_df = pd.read_csv('train.csv')\n",
    "test_df = pd.read_csv('test.csv')"
   ]
  },
  {
   "cell_type": "code",
   "execution_count": 4,
   "metadata": {},
   "outputs": [
    {
     "data": {
      "text/html": [
       "<div>\n",
       "<style scoped>\n",
       "    .dataframe tbody tr th:only-of-type {\n",
       "        vertical-align: middle;\n",
       "    }\n",
       "\n",
       "    .dataframe tbody tr th {\n",
       "        vertical-align: top;\n",
       "    }\n",
       "\n",
       "    .dataframe thead th {\n",
       "        text-align: right;\n",
       "    }\n",
       "</style>\n",
       "<table border=\"1\" class=\"dataframe\">\n",
       "  <thead>\n",
       "    <tr style=\"text-align: right;\">\n",
       "      <th></th>\n",
       "      <th>id</th>\n",
       "      <th>vendor_id</th>\n",
       "      <th>pickup_datetime</th>\n",
       "      <th>dropoff_datetime</th>\n",
       "      <th>passenger_count</th>\n",
       "      <th>pickup_longitude</th>\n",
       "      <th>pickup_latitude</th>\n",
       "      <th>dropoff_longitude</th>\n",
       "      <th>dropoff_latitude</th>\n",
       "      <th>store_and_fwd_flag</th>\n",
       "      <th>trip_duration</th>\n",
       "    </tr>\n",
       "  </thead>\n",
       "  <tbody>\n",
       "    <tr>\n",
       "      <th>0</th>\n",
       "      <td>id2875421</td>\n",
       "      <td>2</td>\n",
       "      <td>2016-03-14 17:24:55</td>\n",
       "      <td>2016-03-14 17:32:30</td>\n",
       "      <td>1.0</td>\n",
       "      <td>-73.982155</td>\n",
       "      <td>40.767937</td>\n",
       "      <td>-73.964630</td>\n",
       "      <td>40.765602</td>\n",
       "      <td>N</td>\n",
       "      <td>455.0</td>\n",
       "    </tr>\n",
       "    <tr>\n",
       "      <th>1</th>\n",
       "      <td>id2377394</td>\n",
       "      <td>1</td>\n",
       "      <td>2016-06-12 00:43:35</td>\n",
       "      <td>2016-06-12 00:54:38</td>\n",
       "      <td>1.0</td>\n",
       "      <td>-73.980415</td>\n",
       "      <td>40.738564</td>\n",
       "      <td>-73.999481</td>\n",
       "      <td>40.731152</td>\n",
       "      <td>N</td>\n",
       "      <td>663.0</td>\n",
       "    </tr>\n",
       "    <tr>\n",
       "      <th>2</th>\n",
       "      <td>id3858529</td>\n",
       "      <td>2</td>\n",
       "      <td>2016-01-19 11:35:24</td>\n",
       "      <td>2016-01-19 12:10:48</td>\n",
       "      <td>1.0</td>\n",
       "      <td>-73.979027</td>\n",
       "      <td>40.763939</td>\n",
       "      <td>-74.005333</td>\n",
       "      <td>40.710087</td>\n",
       "      <td>N</td>\n",
       "      <td>2124.0</td>\n",
       "    </tr>\n",
       "    <tr>\n",
       "      <th>3</th>\n",
       "      <td>id3504673</td>\n",
       "      <td>2</td>\n",
       "      <td>2016-04-06 19:32:31</td>\n",
       "      <td>2016-04-06 19:39:40</td>\n",
       "      <td>1.0</td>\n",
       "      <td>-74.010040</td>\n",
       "      <td>40.719971</td>\n",
       "      <td>-74.012268</td>\n",
       "      <td>40.706718</td>\n",
       "      <td>N</td>\n",
       "      <td>429.0</td>\n",
       "    </tr>\n",
       "    <tr>\n",
       "      <th>4</th>\n",
       "      <td>id2181028</td>\n",
       "      <td>2</td>\n",
       "      <td>2016-03-26 13:30:55</td>\n",
       "      <td>2016-03-26 13:38:10</td>\n",
       "      <td>1.0</td>\n",
       "      <td>-73.973053</td>\n",
       "      <td>40.793209</td>\n",
       "      <td>-73.972923</td>\n",
       "      <td>40.782520</td>\n",
       "      <td>N</td>\n",
       "      <td>435.0</td>\n",
       "    </tr>\n",
       "  </tbody>\n",
       "</table>\n",
       "</div>"
      ],
      "text/plain": [
       "          id  vendor_id      pickup_datetime     dropoff_datetime  \\\n",
       "0  id2875421          2  2016-03-14 17:24:55  2016-03-14 17:32:30   \n",
       "1  id2377394          1  2016-06-12 00:43:35  2016-06-12 00:54:38   \n",
       "2  id3858529          2  2016-01-19 11:35:24  2016-01-19 12:10:48   \n",
       "3  id3504673          2  2016-04-06 19:32:31  2016-04-06 19:39:40   \n",
       "4  id2181028          2  2016-03-26 13:30:55  2016-03-26 13:38:10   \n",
       "\n",
       "   passenger_count  pickup_longitude  pickup_latitude  dropoff_longitude  \\\n",
       "0              1.0        -73.982155        40.767937         -73.964630   \n",
       "1              1.0        -73.980415        40.738564         -73.999481   \n",
       "2              1.0        -73.979027        40.763939         -74.005333   \n",
       "3              1.0        -74.010040        40.719971         -74.012268   \n",
       "4              1.0        -73.973053        40.793209         -73.972923   \n",
       "\n",
       "   dropoff_latitude store_and_fwd_flag  trip_duration  \n",
       "0         40.765602                  N          455.0  \n",
       "1         40.731152                  N          663.0  \n",
       "2         40.710087                  N         2124.0  \n",
       "3         40.706718                  N          429.0  \n",
       "4         40.782520                  N          435.0  "
      ]
     },
     "execution_count": 4,
     "metadata": {},
     "output_type": "execute_result"
    }
   ],
   "source": [
    "train_df.head()"
   ]
  },
  {
   "cell_type": "code",
   "execution_count": 5,
   "metadata": {},
   "outputs": [
    {
     "data": {
      "text/html": [
       "<div>\n",
       "<style scoped>\n",
       "    .dataframe tbody tr th:only-of-type {\n",
       "        vertical-align: middle;\n",
       "    }\n",
       "\n",
       "    .dataframe tbody tr th {\n",
       "        vertical-align: top;\n",
       "    }\n",
       "\n",
       "    .dataframe thead th {\n",
       "        text-align: right;\n",
       "    }\n",
       "</style>\n",
       "<table border=\"1\" class=\"dataframe\">\n",
       "  <thead>\n",
       "    <tr style=\"text-align: right;\">\n",
       "      <th></th>\n",
       "      <th>id</th>\n",
       "      <th>vendor_id</th>\n",
       "      <th>pickup_datetime</th>\n",
       "      <th>passenger_count</th>\n",
       "      <th>pickup_longitude</th>\n",
       "      <th>pickup_latitude</th>\n",
       "      <th>dropoff_longitude</th>\n",
       "      <th>dropoff_latitude</th>\n",
       "      <th>store_and_fwd_flag</th>\n",
       "    </tr>\n",
       "  </thead>\n",
       "  <tbody>\n",
       "    <tr>\n",
       "      <th>0</th>\n",
       "      <td>id3004672</td>\n",
       "      <td>1</td>\n",
       "      <td>2016-06-30 23:59:58</td>\n",
       "      <td>1</td>\n",
       "      <td>-73.988129</td>\n",
       "      <td>40.732029</td>\n",
       "      <td>-73.990173</td>\n",
       "      <td>40.756680</td>\n",
       "      <td>N</td>\n",
       "    </tr>\n",
       "    <tr>\n",
       "      <th>1</th>\n",
       "      <td>id3505355</td>\n",
       "      <td>1</td>\n",
       "      <td>2016-06-30 23:59:53</td>\n",
       "      <td>1</td>\n",
       "      <td>-73.964203</td>\n",
       "      <td>40.679993</td>\n",
       "      <td>-73.959808</td>\n",
       "      <td>40.655403</td>\n",
       "      <td>N</td>\n",
       "    </tr>\n",
       "    <tr>\n",
       "      <th>2</th>\n",
       "      <td>id1217141</td>\n",
       "      <td>1</td>\n",
       "      <td>2016-06-30 23:59:47</td>\n",
       "      <td>1</td>\n",
       "      <td>-73.997437</td>\n",
       "      <td>40.737583</td>\n",
       "      <td>-73.986160</td>\n",
       "      <td>40.729523</td>\n",
       "      <td>N</td>\n",
       "    </tr>\n",
       "    <tr>\n",
       "      <th>3</th>\n",
       "      <td>id2150126</td>\n",
       "      <td>2</td>\n",
       "      <td>2016-06-30 23:59:41</td>\n",
       "      <td>1</td>\n",
       "      <td>-73.956070</td>\n",
       "      <td>40.771900</td>\n",
       "      <td>-73.986427</td>\n",
       "      <td>40.730469</td>\n",
       "      <td>N</td>\n",
       "    </tr>\n",
       "    <tr>\n",
       "      <th>4</th>\n",
       "      <td>id1598245</td>\n",
       "      <td>1</td>\n",
       "      <td>2016-06-30 23:59:33</td>\n",
       "      <td>1</td>\n",
       "      <td>-73.970215</td>\n",
       "      <td>40.761475</td>\n",
       "      <td>-73.961510</td>\n",
       "      <td>40.755890</td>\n",
       "      <td>N</td>\n",
       "    </tr>\n",
       "  </tbody>\n",
       "</table>\n",
       "</div>"
      ],
      "text/plain": [
       "          id  vendor_id      pickup_datetime  passenger_count  \\\n",
       "0  id3004672          1  2016-06-30 23:59:58                1   \n",
       "1  id3505355          1  2016-06-30 23:59:53                1   \n",
       "2  id1217141          1  2016-06-30 23:59:47                1   \n",
       "3  id2150126          2  2016-06-30 23:59:41                1   \n",
       "4  id1598245          1  2016-06-30 23:59:33                1   \n",
       "\n",
       "   pickup_longitude  pickup_latitude  dropoff_longitude  dropoff_latitude  \\\n",
       "0        -73.988129        40.732029         -73.990173         40.756680   \n",
       "1        -73.964203        40.679993         -73.959808         40.655403   \n",
       "2        -73.997437        40.737583         -73.986160         40.729523   \n",
       "3        -73.956070        40.771900         -73.986427         40.730469   \n",
       "4        -73.970215        40.761475         -73.961510         40.755890   \n",
       "\n",
       "  store_and_fwd_flag  \n",
       "0                  N  \n",
       "1                  N  \n",
       "2                  N  \n",
       "3                  N  \n",
       "4                  N  "
      ]
     },
     "execution_count": 5,
     "metadata": {},
     "output_type": "execute_result"
    }
   ],
   "source": [
    "test_df.head()"
   ]
  },
  {
   "cell_type": "code",
   "execution_count": 6,
   "metadata": {},
   "outputs": [],
   "source": [
    "df = pd.concat([train_df, test_df])"
   ]
  },
  {
   "cell_type": "markdown",
   "metadata": {},
   "source": [
    "### Dataset Statistics"
   ]
  },
  {
   "cell_type": "code",
   "execution_count": 7,
   "metadata": {},
   "outputs": [
    {
     "name": "stdout",
     "output_type": "stream",
     "text": [
      "Number of samples: 1235124\n",
      "Number of features: 11\n",
      "\n",
      "Train Column names:\n",
      "['id', 'vendor_id', 'pickup_datetime', 'dropoff_datetime', 'passenger_count', 'pickup_longitude', 'pickup_latitude', 'dropoff_longitude', 'dropoff_latitude', 'store_and_fwd_flag', 'trip_duration']\n"
     ]
    }
   ],
   "source": [
    "print(f\"Number of samples: {len(df)}\")\n",
    "print(f\"Number of features: {df.shape[1]}\")\n",
    "print(\"\\nTrain Column names:\")\n",
    "print(df.columns.tolist())"
   ]
  },
  {
   "cell_type": "code",
   "execution_count": 8,
   "metadata": {},
   "outputs": [
    {
     "data": {
      "text/html": [
       "<div>\n",
       "<style scoped>\n",
       "    .dataframe tbody tr th:only-of-type {\n",
       "        vertical-align: middle;\n",
       "    }\n",
       "\n",
       "    .dataframe tbody tr th {\n",
       "        vertical-align: top;\n",
       "    }\n",
       "\n",
       "    .dataframe thead th {\n",
       "        text-align: right;\n",
       "    }\n",
       "</style>\n",
       "<table border=\"1\" class=\"dataframe\">\n",
       "  <thead>\n",
       "    <tr style=\"text-align: right;\">\n",
       "      <th></th>\n",
       "      <th>vendor_id</th>\n",
       "      <th>passenger_count</th>\n",
       "      <th>pickup_longitude</th>\n",
       "      <th>pickup_latitude</th>\n",
       "      <th>dropoff_longitude</th>\n",
       "      <th>dropoff_latitude</th>\n",
       "      <th>trip_duration</th>\n",
       "    </tr>\n",
       "  </thead>\n",
       "  <tbody>\n",
       "    <tr>\n",
       "      <th>count</th>\n",
       "      <td>1.235124e+06</td>\n",
       "      <td>1.235123e+06</td>\n",
       "      <td>1.235123e+06</td>\n",
       "      <td>1.235123e+06</td>\n",
       "      <td>1.235123e+06</td>\n",
       "      <td>1.235123e+06</td>\n",
       "      <td>6.099890e+05</td>\n",
       "    </tr>\n",
       "    <tr>\n",
       "      <th>mean</th>\n",
       "      <td>1.534634e+00</td>\n",
       "      <td>1.662471e+00</td>\n",
       "      <td>-7.397358e+01</td>\n",
       "      <td>4.075095e+01</td>\n",
       "      <td>-7.397343e+01</td>\n",
       "      <td>4.075182e+01</td>\n",
       "      <td>9.510465e+02</td>\n",
       "    </tr>\n",
       "    <tr>\n",
       "      <th>std</th>\n",
       "      <td>4.987993e-01</td>\n",
       "      <td>1.311854e+00</td>\n",
       "      <td>5.929051e-02</td>\n",
       "      <td>3.158774e-02</td>\n",
       "      <td>5.858375e-02</td>\n",
       "      <td>3.549666e-02</td>\n",
       "      <td>3.979546e+03</td>\n",
       "    </tr>\n",
       "    <tr>\n",
       "      <th>min</th>\n",
       "      <td>1.000000e+00</td>\n",
       "      <td>0.000000e+00</td>\n",
       "      <td>-1.219331e+02</td>\n",
       "      <td>3.471223e+01</td>\n",
       "      <td>-1.219333e+02</td>\n",
       "      <td>3.218114e+01</td>\n",
       "      <td>1.000000e+00</td>\n",
       "    </tr>\n",
       "    <tr>\n",
       "      <th>25%</th>\n",
       "      <td>1.000000e+00</td>\n",
       "      <td>1.000000e+00</td>\n",
       "      <td>-7.399187e+01</td>\n",
       "      <td>4.073737e+01</td>\n",
       "      <td>-7.399133e+01</td>\n",
       "      <td>4.073595e+01</td>\n",
       "      <td>3.970000e+02</td>\n",
       "    </tr>\n",
       "    <tr>\n",
       "      <th>50%</th>\n",
       "      <td>2.000000e+00</td>\n",
       "      <td>1.000000e+00</td>\n",
       "      <td>-7.398175e+01</td>\n",
       "      <td>4.075410e+01</td>\n",
       "      <td>-7.397976e+01</td>\n",
       "      <td>4.075451e+01</td>\n",
       "      <td>6.620000e+02</td>\n",
       "    </tr>\n",
       "    <tr>\n",
       "      <th>75%</th>\n",
       "      <td>2.000000e+00</td>\n",
       "      <td>2.000000e+00</td>\n",
       "      <td>-7.396737e+01</td>\n",
       "      <td>4.076837e+01</td>\n",
       "      <td>-7.396301e+01</td>\n",
       "      <td>4.076982e+01</td>\n",
       "      <td>1.075000e+03</td>\n",
       "    </tr>\n",
       "    <tr>\n",
       "      <th>max</th>\n",
       "      <td>2.000000e+00</td>\n",
       "      <td>9.000000e+00</td>\n",
       "      <td>-6.924892e+01</td>\n",
       "      <td>5.188108e+01</td>\n",
       "      <td>-6.749680e+01</td>\n",
       "      <td>4.885760e+01</td>\n",
       "      <td>1.939736e+06</td>\n",
       "    </tr>\n",
       "  </tbody>\n",
       "</table>\n",
       "</div>"
      ],
      "text/plain": [
       "          vendor_id  passenger_count  pickup_longitude  pickup_latitude  \\\n",
       "count  1.235124e+06     1.235123e+06      1.235123e+06     1.235123e+06   \n",
       "mean   1.534634e+00     1.662471e+00     -7.397358e+01     4.075095e+01   \n",
       "std    4.987993e-01     1.311854e+00      5.929051e-02     3.158774e-02   \n",
       "min    1.000000e+00     0.000000e+00     -1.219331e+02     3.471223e+01   \n",
       "25%    1.000000e+00     1.000000e+00     -7.399187e+01     4.073737e+01   \n",
       "50%    2.000000e+00     1.000000e+00     -7.398175e+01     4.075410e+01   \n",
       "75%    2.000000e+00     2.000000e+00     -7.396737e+01     4.076837e+01   \n",
       "max    2.000000e+00     9.000000e+00     -6.924892e+01     5.188108e+01   \n",
       "\n",
       "       dropoff_longitude  dropoff_latitude  trip_duration  \n",
       "count       1.235123e+06      1.235123e+06   6.099890e+05  \n",
       "mean       -7.397343e+01      4.075182e+01   9.510465e+02  \n",
       "std         5.858375e-02      3.549666e-02   3.979546e+03  \n",
       "min        -1.219333e+02      3.218114e+01   1.000000e+00  \n",
       "25%        -7.399133e+01      4.073595e+01   3.970000e+02  \n",
       "50%        -7.397976e+01      4.075451e+01   6.620000e+02  \n",
       "75%        -7.396301e+01      4.076982e+01   1.075000e+03  \n",
       "max        -6.749680e+01      4.885760e+01   1.939736e+06  "
      ]
     },
     "execution_count": 8,
     "metadata": {},
     "output_type": "execute_result"
    }
   ],
   "source": [
    "df.describe()"
   ]
  },
  {
   "cell_type": "markdown",
   "metadata": {},
   "source": [
    "<span style='color:green'>\n",
    "\n",
    "* The dataset represents **taxi trip records in New York City**, capturing information about each trip such as **pickup and dropoff times, locations, passenger count, and trip duration**. \n",
    "* It was sourced from the **NYC Taxi and Limousine Commission (TLC)** and is available on platforms like **Kaggle**. \n",
    "    \n",
    "**Key variables** \n",
    "* pickup_datetime (timestamp of when the trip started)\n",
    "* dropoff_datetime (when the trip ended)\n",
    "* trip_duration (duration of the trip in seconds)\n",
    "* pickup_longitude\n",
    "* pickup_latitude\n",
    "* dropoff_longitude\n",
    "* dropoff_latitude\n",
    "* passenger_count  \n",
    "\n",
    "**Link to dataset:** [NYC Taxi Trip Duration on Kaggle](https://www.kaggle.com/c/nyc-taxi-trip-duration)\n",
    "\n",
    "\n",
    "</span>"
   ]
  },
  {
   "cell_type": "code",
   "execution_count": 9,
   "metadata": {},
   "outputs": [
    {
     "data": {
      "text/plain": [
       "id                         0\n",
       "vendor_id                  0\n",
       "pickup_datetime            0\n",
       "dropoff_datetime      625135\n",
       "passenger_count            1\n",
       "pickup_longitude           1\n",
       "pickup_latitude            1\n",
       "dropoff_longitude          1\n",
       "dropoff_latitude           1\n",
       "store_and_fwd_flag         1\n",
       "trip_duration         625135\n",
       "dtype: int64"
      ]
     },
     "execution_count": 9,
     "metadata": {},
     "output_type": "execute_result"
    }
   ],
   "source": [
    "df.isnull().sum()"
   ]
  },
  {
   "cell_type": "code",
   "execution_count": 10,
   "metadata": {},
   "outputs": [
    {
     "name": "stdout",
     "output_type": "stream",
     "text": [
      "<class 'pandas.core.frame.DataFrame'>\n",
      "Int64Index: 1235124 entries, 0 to 625133\n",
      "Data columns (total 11 columns):\n",
      " #   Column              Non-Null Count    Dtype  \n",
      "---  ------              --------------    -----  \n",
      " 0   id                  1235124 non-null  object \n",
      " 1   vendor_id           1235124 non-null  int64  \n",
      " 2   pickup_datetime     1235124 non-null  object \n",
      " 3   dropoff_datetime    609989 non-null   object \n",
      " 4   passenger_count     1235123 non-null  float64\n",
      " 5   pickup_longitude    1235123 non-null  float64\n",
      " 6   pickup_latitude     1235123 non-null  float64\n",
      " 7   dropoff_longitude   1235123 non-null  float64\n",
      " 8   dropoff_latitude    1235123 non-null  float64\n",
      " 9   store_and_fwd_flag  1235123 non-null  object \n",
      " 10  trip_duration       609989 non-null   float64\n",
      "dtypes: float64(6), int64(1), object(4)\n",
      "memory usage: 113.1+ MB\n"
     ]
    }
   ],
   "source": [
    "df.info()"
   ]
  },
  {
   "cell_type": "markdown",
   "metadata": {},
   "source": [
    "<span style='color:green;'>We drop the trip_duration and dropoff_datetime as we are planning to detect the trip count over a time series and these columns can be omitted.</span>"
   ]
  },
  {
   "cell_type": "code",
   "execution_count": 11,
   "metadata": {},
   "outputs": [],
   "source": [
    "df.drop(columns=['trip_duration','dropoff_datetime'],inplace=True)\n",
    "df.dropna(inplace=True)"
   ]
  },
  {
   "cell_type": "code",
   "execution_count": 12,
   "metadata": {},
   "outputs": [
    {
     "data": {
      "text/plain": [
       "id                    0\n",
       "vendor_id             0\n",
       "pickup_datetime       0\n",
       "passenger_count       0\n",
       "pickup_longitude      0\n",
       "pickup_latitude       0\n",
       "dropoff_longitude     0\n",
       "dropoff_latitude      0\n",
       "store_and_fwd_flag    0\n",
       "dtype: int64"
      ]
     },
     "execution_count": 12,
     "metadata": {},
     "output_type": "execute_result"
    }
   ],
   "source": [
    "df.isnull().sum()"
   ]
  },
  {
   "cell_type": "code",
   "execution_count": 13,
   "metadata": {},
   "outputs": [
    {
     "name": "stdout",
     "output_type": "stream",
     "text": [
      "<class 'pandas.core.frame.DataFrame'>\n",
      "Int64Index: 1235123 entries, 0 to 625133\n",
      "Data columns (total 9 columns):\n",
      " #   Column              Non-Null Count    Dtype  \n",
      "---  ------              --------------    -----  \n",
      " 0   id                  1235123 non-null  object \n",
      " 1   vendor_id           1235123 non-null  int64  \n",
      " 2   pickup_datetime     1235123 non-null  object \n",
      " 3   passenger_count     1235123 non-null  float64\n",
      " 4   pickup_longitude    1235123 non-null  float64\n",
      " 5   pickup_latitude     1235123 non-null  float64\n",
      " 6   dropoff_longitude   1235123 non-null  float64\n",
      " 7   dropoff_latitude    1235123 non-null  float64\n",
      " 8   store_and_fwd_flag  1235123 non-null  object \n",
      "dtypes: float64(5), int64(1), object(3)\n",
      "memory usage: 94.2+ MB\n"
     ]
    }
   ],
   "source": [
    "df.info()"
   ]
  },
  {
   "cell_type": "markdown",
   "metadata": {},
   "source": [
    "<span style='color:green'>We are now aggregate the trip count on an hourly basis to begin with my task</span>"
   ]
  },
  {
   "cell_type": "code",
   "execution_count": 17,
   "metadata": {},
   "outputs": [],
   "source": [
    "df['pickup_datetime'] = pd.to_datetime(df['pickup_datetime'])"
   ]
  },
  {
   "cell_type": "code",
   "execution_count": 18,
   "metadata": {},
   "outputs": [],
   "source": [
    "time_series = df.set_index('pickup_datetime').resample('H').size()\n",
    "time_series = time_series.rename('trip_count').reset_index()"
   ]
  },
  {
   "cell_type": "code",
   "execution_count": 19,
   "metadata": {},
   "outputs": [
    {
     "data": {
      "text/html": [
       "<div>\n",
       "<style scoped>\n",
       "    .dataframe tbody tr th:only-of-type {\n",
       "        vertical-align: middle;\n",
       "    }\n",
       "\n",
       "    .dataframe tbody tr th {\n",
       "        vertical-align: top;\n",
       "    }\n",
       "\n",
       "    .dataframe thead th {\n",
       "        text-align: right;\n",
       "    }\n",
       "</style>\n",
       "<table border=\"1\" class=\"dataframe\">\n",
       "  <thead>\n",
       "    <tr style=\"text-align: right;\">\n",
       "      <th></th>\n",
       "      <th>pickup_datetime</th>\n",
       "      <th>trip_count</th>\n",
       "    </tr>\n",
       "  </thead>\n",
       "  <tbody>\n",
       "    <tr>\n",
       "      <th>0</th>\n",
       "      <td>2016-01-01 00:00:00</td>\n",
       "      <td>453</td>\n",
       "    </tr>\n",
       "    <tr>\n",
       "      <th>1</th>\n",
       "      <td>2016-01-01 01:00:00</td>\n",
       "      <td>502</td>\n",
       "    </tr>\n",
       "    <tr>\n",
       "      <th>2</th>\n",
       "      <td>2016-01-01 02:00:00</td>\n",
       "      <td>454</td>\n",
       "    </tr>\n",
       "    <tr>\n",
       "      <th>3</th>\n",
       "      <td>2016-01-01 03:00:00</td>\n",
       "      <td>422</td>\n",
       "    </tr>\n",
       "    <tr>\n",
       "      <th>4</th>\n",
       "      <td>2016-01-01 04:00:00</td>\n",
       "      <td>252</td>\n",
       "    </tr>\n",
       "    <tr>\n",
       "      <th>...</th>\n",
       "      <td>...</td>\n",
       "      <td>...</td>\n",
       "    </tr>\n",
       "    <tr>\n",
       "      <th>4363</th>\n",
       "      <td>2016-06-30 19:00:00</td>\n",
       "      <td>369</td>\n",
       "    </tr>\n",
       "    <tr>\n",
       "      <th>4364</th>\n",
       "      <td>2016-06-30 20:00:00</td>\n",
       "      <td>365</td>\n",
       "    </tr>\n",
       "    <tr>\n",
       "      <th>4365</th>\n",
       "      <td>2016-06-30 21:00:00</td>\n",
       "      <td>444</td>\n",
       "    </tr>\n",
       "    <tr>\n",
       "      <th>4366</th>\n",
       "      <td>2016-06-30 22:00:00</td>\n",
       "      <td>375</td>\n",
       "    </tr>\n",
       "    <tr>\n",
       "      <th>4367</th>\n",
       "      <td>2016-06-30 23:00:00</td>\n",
       "      <td>397</td>\n",
       "    </tr>\n",
       "  </tbody>\n",
       "</table>\n",
       "<p>4368 rows × 2 columns</p>\n",
       "</div>"
      ],
      "text/plain": [
       "         pickup_datetime  trip_count\n",
       "0    2016-01-01 00:00:00         453\n",
       "1    2016-01-01 01:00:00         502\n",
       "2    2016-01-01 02:00:00         454\n",
       "3    2016-01-01 03:00:00         422\n",
       "4    2016-01-01 04:00:00         252\n",
       "...                  ...         ...\n",
       "4363 2016-06-30 19:00:00         369\n",
       "4364 2016-06-30 20:00:00         365\n",
       "4365 2016-06-30 21:00:00         444\n",
       "4366 2016-06-30 22:00:00         375\n",
       "4367 2016-06-30 23:00:00         397\n",
       "\n",
       "[4368 rows x 2 columns]"
      ]
     },
     "execution_count": 19,
     "metadata": {},
     "output_type": "execute_result"
    }
   ],
   "source": [
    "time_series"
   ]
  },
  {
   "cell_type": "markdown",
   "metadata": {},
   "source": [
    "## Visualization - 1 (Trip Count per Hour)"
   ]
  },
  {
   "cell_type": "code",
   "execution_count": 106,
   "metadata": {},
   "outputs": [
    {
     "data": {
      "image/png": "[encoded data removed]",
      "text/plain": [
       "<Figure size 864x432 with 1 Axes>"
      ]
     },
     "metadata": {
      "needs_background": "light"
     },
     "output_type": "display_data"
    }
   ],
   "source": [
    "plt.figure(figsize=(12, 6))\n",
    "plt.plot(time_series['pickup_datetime'], time_series['trip_count'])\n",
    "plt.title('Trip Count per Hour')\n",
    "plt.xlabel('Time')\n",
    "plt.ylabel('Trip Count')\n",
    "plt.grid()\n",
    "plt.show()"
   ]
  },
  {
   "cell_type": "markdown",
   "metadata": {},
   "source": [
    "<span style='color:green'>\n",
    "\n",
    "This plot illustrates the number of trips recorded per hour from **January 2016 to June 2016**. The following patterns can be observed:\n",
    "\n",
    "- **Seasonality:** The repeated peaks and troughs suggest a potential daily or weekly pattern in trip demand.\n",
    "- **Stability:** Despite fluctuations, the overall level of trips appears relatively stable over time.\n",
    "- **Outliers:** Occasional dips to near-zero trip counts might indicate data gaps or unusual events.\n",
    "\n",
    "Understanding these patterns can help in **time series forecasting** to predict future trip counts based on historical data.\n",
    "</span>"
   ]
  },
  {
   "cell_type": "markdown",
   "metadata": {},
   "source": [
    "## Visualization - 2 (Hourly Average Trip Duration)"
   ]
  },
  {
   "cell_type": "code",
   "execution_count": 22,
   "metadata": {},
   "outputs": [
    {
     "data": {
      "image/png": "[encoded data removed]",
      "text/plain": [
       "<Figure size 720x360 with 1 Axes>"
      ]
     },
     "metadata": {
      "needs_background": "light"
     },
     "output_type": "display_data"
    }
   ],
   "source": [
    "train_df['pickup_datetime'] = pd.to_datetime(train_df['pickup_datetime'])\n",
    "train_df['trip_duration'] = train_df['trip_duration'] / 60  # Convert duration to minutes\n",
    "avg_dur = train_df.groupby(train_df['pickup_datetime'].dt.hour)['trip_duration'].mean()\n",
    "\n",
    "plt.figure(figsize=(10, 5))\n",
    "plt.plot(avg_dur.index, avg_dur.values, marker='o', linestyle='-', color='coral')\n",
    "plt.title('Hourly Average Trip Duration')\n",
    "plt.xlabel('Hour of Day')\n",
    "plt.ylabel('Average Trip Duration (minutes)')\n",
    "plt.grid()\n",
    "plt.show()"
   ]
  },
  {
   "cell_type": "markdown",
   "metadata": {},
   "source": [
    "<span style='color:green'>\n",
    "This plot illustrates the average trip duration per hour of the day:\n",
    "\n",
    "- **Morning Dip:** There is a noticeable drop around **5 AM**, which could be due to **less traffic** or more **direct routes**.\n",
    "- **Morning Peak:** An increase in trip duration is observed after **6 AM**, likely aligning with **morning rush hour** traffic.\n",
    "- **Afternoon Peak:** The trip duration peaks around **3 PM to 4 PM**, indicating **high traffic or longer trips** during these hours.\n",
    "- **Evening Drop:** A decline in trip duration after the afternoon peak suggests **traffic eases** as the day progresses.\n",
    "- **Nighttime Stability:** During late-night hours, trip durations appear **stable**, possibly due to **consistent travel conditions**.\n",
    "\n",
    "These patterns highlight the **impact of traffic congestion** and **time of day** on trip durations, providing valuable insights for **time series forecasting** and **traffic management**.\n",
    "</span>"
   ]
  },
  {
   "cell_type": "markdown",
   "metadata": {},
   "source": [
    "## Visualization - 3 (Autocorrelation Plot for Trip Count (Sample))"
   ]
  },
  {
   "cell_type": "code",
   "execution_count": 108,
   "metadata": {},
   "outputs": [
    {
     "data": {
      "image/png": "[encoded data removed]",
      "text/plain": [
       "<Figure size 720x360 with 1 Axes>"
      ]
     },
     "metadata": {
      "needs_background": "light"
     },
     "output_type": "display_data"
    }
   ],
   "source": [
    "plt.figure(figsize=(10, 5))\n",
    "autocorrelation_plot(time_series['trip_count'][:500])  # Use first 500 data points to reduce memory usage\n",
    "plt.title('Autocorrelation Plot for Trip Count (Sample)')\n",
    "plt.show()"
   ]
  },
  {
   "cell_type": "markdown",
   "metadata": {},
   "source": [
    "<span style='color:green'>\n",
    "This plot illustrates the autocorrelation function (ACF) for the trip count data:\n",
    "\n",
    "- **Seasonality:** The **periodic peaks and troughs** indicate a possible **seasonal pattern**, suggesting that trip counts may follow a **daily or weekly cycle**.\n",
    "- **Significant Lags:** Peaks that cross the **dashed significance bounds** imply that certain lagged values have a **statistically significant correlation** with current trip counts.\n",
    "- **Alternating Correlations:** The **positive and negative peaks** suggest both **increases and decreases** in trip counts over time, aligning with a **cyclical pattern**.\n",
    "- **Stationarity Check:** The slow decay in autocorrelation may indicate that the data is **non-stationary** and may require **differencing** for effective time series modeling.\n",
    "\n",
    "Understanding these patterns helps in choosing appropriate **time series models** and **forecasting methods** for trip count prediction.\n",
    "</span>"
   ]
  },
  {
   "cell_type": "markdown",
   "metadata": {},
   "source": [
    "<span style='color:green'>Since there are not categorical data involved in our dataset. We ignore this step.</span>"
   ]
  },
  {
   "cell_type": "code",
   "execution_count": 23,
   "metadata": {},
   "outputs": [],
   "source": [
    "train_size = int(len(time_series) * 0.7)\n",
    "val_size = int(len(time_series) * 0.15)"
   ]
  },
  {
   "cell_type": "code",
   "execution_count": 24,
   "metadata": {},
   "outputs": [],
   "source": [
    "train_data = time_series['trip_count'][:train_size].values\n",
    "val_data = time_series['trip_count'][train_size:train_size + val_size].values\n",
    "test_data = time_series['trip_count'][train_size + val_size:].values"
   ]
  },
  {
   "cell_type": "code",
   "execution_count": 25,
   "metadata": {},
   "outputs": [
    {
     "name": "stdout",
     "output_type": "stream",
     "text": [
      "Train data length: 3057\n",
      "Validation data length: 655\n",
      "Test data length: 656\n"
     ]
    }
   ],
   "source": [
    "print(f\"Train data length: {len(train_data)}\")\n",
    "print(f\"Validation data length: {len(val_data)}\")\n",
    "print(f\"Test data length: {len(test_data)}\")"
   ]
  },
  {
   "cell_type": "code",
   "execution_count": 26,
   "metadata": {},
   "outputs": [],
   "source": [
    "scaler = MinMaxScaler()\n",
    "train_data = scaler.fit_transform(train_data.reshape(-1, 1))\n",
    "val_data = scaler.transform(val_data.reshape(-1, 1))\n",
    "test_data = scaler.transform(test_data.reshape(-1, 1))"
   ]
  },
  {
   "cell_type": "code",
   "execution_count": 27,
   "metadata": {},
   "outputs": [],
   "source": [
    "train_data = train_data.flatten()\n",
    "val_data = val_data.flatten()\n",
    "test_data = test_data.flatten()"
   ]
  },
  {
   "cell_type": "markdown",
   "metadata": {},
   "source": [
    "Sequence Creation:\n",
    "- Create input sequences and corresponding target values for your RNN/LSTM.\n",
    "- Choose a sequence length.\n",
    "- Create a function to generate sequences."
   ]
  },
  {
   "cell_type": "code",
   "execution_count": 28,
   "metadata": {},
   "outputs": [],
   "source": [
    "def create_sequences(data, seq_length=24):\n",
    "    xs, ys = [], []\n",
    "    for i in range(len(data) - seq_length):\n",
    "        x = data[i:(i + seq_length)]\n",
    "        y = data[i + seq_length]\n",
    "        xs.append(x)\n",
    "        ys.append(y)\n",
    "    return np.array(xs), np.array(ys)"
   ]
  },
  {
   "cell_type": "code",
   "execution_count": 29,
   "metadata": {},
   "outputs": [],
   "source": [
    "seq_length = 24  # 24 hours as sequence length\n",
    "X_train, y_train = create_sequences(train_data, seq_length)\n",
    "X_val, y_val = create_sequences(val_data, seq_length)\n",
    "X_test, y_test = create_sequences(test_data, seq_length)"
   ]
  },
  {
   "cell_type": "code",
   "execution_count": 30,
   "metadata": {},
   "outputs": [
    {
     "name": "stdout",
     "output_type": "stream",
     "text": [
      "Training sequences shape: (3033, 24), (3033,)\n",
      "Validation sequences shape: (631, 24), (631,)\n",
      "Validation sequences shape: (632, 24), (632,)\n"
     ]
    }
   ],
   "source": [
    "print(f\"Training sequences shape: {X_train.shape}, {y_train.shape}\")\n",
    "print(f\"Validation sequences shape: {X_val.shape}, {y_val.shape}\")\n",
    "print(f\"Validation sequences shape: {X_test.shape}, {y_test.shape}\")"
   ]
  },
  {
   "cell_type": "markdown",
   "metadata": {},
   "source": [
    "## Step 2: Model development"
   ]
  },
  {
   "cell_type": "markdown",
   "metadata": {},
   "source": [
    "<span style='color:green'>\n",
    "    \n",
    "For this time-series forecasting task, we chose an **LSTM (Long Short-Term Memory)** network because of its ability to capture **long-term dependencies** effectively, which is essential for sequential data like time series. \n",
    "\n",
    "#### **Key Features of the LSTM Network:**\n",
    "\n",
    "1. **Stacked Unidirectional LSTM Layers:**\n",
    "   - Consists of **three unidirectional LSTM layers** to capture patterns in the **forward direction**.\n",
    "   - Helps in learning **complex temporal dependencies**.\n",
    "\n",
    "2. **Activation Functions:**\n",
    "   - **`tanh` activation** for LSTM layers to regulate the range of cell states.  \n",
    "   - **ReLU activation** for fully connected layers to introduce **non-linearity**.\n",
    "\n",
    "3. **Dropout for Regularization:**\n",
    "   - Uses a **dropout rate of 0.1** to **prevent overfitting** by randomly disabling neurons during training.\n",
    "   - This value balances regularization without excessively reducing model capacity.\n",
    "\n",
    "4. **Fully Connected Layers:**\n",
    "   - Includes **two fully connected layers** to map LSTM outputs to final predictions.\n",
    "   - **Decreasing layer sizes** (128 → 64) for **progressive information compression**.\n",
    "\n",
    "</span>"
   ]
  },
  {
   "cell_type": "code",
   "execution_count": 42,
   "metadata": {},
   "outputs": [],
   "source": [
    "class LSTMModel(nn.Module):\n",
    "    def __init__(self, input_size=1, hidden_size=128, num_layers=3, dropout_rate=0.1):\n",
    "        super(LSTMModel, self).__init__()\n",
    "        self.lstm = nn.LSTM(input_size, hidden_size, num_layers, \n",
    "                            dropout=dropout_rate, batch_first=True, bidirectional=False)\n",
    "        self.dropout = nn.Dropout(dropout_rate)\n",
    "        self.fc1 = nn.Linear(hidden_size, 128)\n",
    "        self.fc2 = nn.Linear(128, 64)\n",
    "        self.fc_out = nn.Linear(64, 1)\n",
    "\n",
    "    def forward(self, x):\n",
    "        out, _ = self.lstm(x)\n",
    "        out = self.dropout(out[:, -1, :])\n",
    "        out = torch.relu(self.fc1(out))\n",
    "        out = torch.relu(self.fc2(out))\n",
    "        out = self.fc_out(out)\n",
    "        return out"
   ]
  },
  {
   "cell_type": "code",
   "execution_count": 43,
   "metadata": {},
   "outputs": [],
   "source": [
    "model = LSTMModel().to(device)"
   ]
  },
  {
   "cell_type": "code",
   "execution_count": 44,
   "metadata": {},
   "outputs": [
    {
     "data": {
      "text/plain": [
       "==========================================================================================\n",
       "Layer (type:depth-idx)                   Output Shape              Param #\n",
       "==========================================================================================\n",
       "LSTMModel                                [64, 1]                   --\n",
       "├─LSTM: 1-1                              [64, 24, 128]             331,264\n",
       "├─Dropout: 1-2                           [64, 128]                 --\n",
       "├─Linear: 1-3                            [64, 128]                 16,512\n",
       "├─Linear: 1-4                            [64, 64]                  8,256\n",
       "├─Linear: 1-5                            [64, 1]                   65\n",
       "==========================================================================================\n",
       "Total params: 356,097\n",
       "Trainable params: 356,097\n",
       "Non-trainable params: 0\n",
       "Total mult-adds (M): 510.41\n",
       "==========================================================================================\n",
       "Input size (MB): 0.01\n",
       "Forward/backward pass size (MB): 1.67\n",
       "Params size (MB): 1.42\n",
       "Estimated Total Size (MB): 3.10\n",
       "=========================================================================================="
      ]
     },
     "execution_count": 44,
     "metadata": {},
     "output_type": "execute_result"
    }
   ],
   "source": [
    "summary(model, input_size=(64, seq_length, 1))"
   ]
  },
  {
   "cell_type": "markdown",
   "metadata": {},
   "source": [
    "2. Train your model using an appropriate loss function and optimizer."
   ]
  },
  {
   "cell_type": "code",
   "execution_count": 45,
   "metadata": {},
   "outputs": [],
   "source": [
    "X_train_tensor = torch.tensor(X_train, dtype=torch.float32).unsqueeze(-1)\n",
    "y_train_tensor = torch.tensor(y_train, dtype=torch.float32)\n",
    "X_val_tensor = torch.tensor(X_val, dtype=torch.float32).unsqueeze(-1)\n",
    "y_val_tensor = torch.tensor(y_val, dtype=torch.float32)\n",
    "X_test_tensor = torch.tensor(X_test, dtype=torch.float32).unsqueeze(-1)\n",
    "y_test_tensor = torch.tensor(y_test, dtype=torch.float32)"
   ]
  },
  {
   "cell_type": "code",
   "execution_count": 46,
   "metadata": {},
   "outputs": [],
   "source": [
    "train_dataset = TensorDataset(X_train_tensor, y_train_tensor)\n",
    "val_dataset = TensorDataset(X_val_tensor, y_val_tensor)\n",
    "test_dataset = TensorDataset(X_test_tensor, y_test_tensor)"
   ]
  },
  {
   "cell_type": "code",
   "execution_count": 47,
   "metadata": {},
   "outputs": [],
   "source": [
    "batch_size = 64\n",
    "train_loader = DataLoader(train_dataset, batch_size=batch_size, shuffle=False)\n",
    "val_loader = DataLoader(val_dataset, batch_size=batch_size, shuffle=False)\n",
    "test_loader = DataLoader(test_dataset, batch_size=batch_size, shuffle=False)"
   ]
  },
  {
   "cell_type": "code",
   "execution_count": 48,
   "metadata": {},
   "outputs": [],
   "source": [
    "loss_function = nn.MSELoss()\n",
    "optimizer = optim.Adam(model.parameters(), lr=0.001)"
   ]
  },
  {
   "cell_type": "code",
   "execution_count": 49,
   "metadata": {},
   "outputs": [
    {
     "name": "stdout",
     "output_type": "stream",
     "text": [
      "Epoch [1/20], Train Loss: 0.0840, Train MAE: 128.3987, Train RMSE: 157.7182, Train R2: -0.4193, Validation Loss: 0.0498, Validation MAE: 102.7330, Validation RMSE: 121.1625, Validation R2: 0.0034\n",
      "Epoch [2/20], Train Loss: 0.0586, Train MAE: 109.7276, Train RMSE: 131.6486, Train R2: 0.0112, Validation Loss: 0.0432, Validation MAE: 89.1156, Validation RMSE: 112.8736, Validation R2: 0.1351\n",
      "Epoch [3/20], Train Loss: 0.0354, Train MAE: 82.0777, Train RMSE: 102.2057, Train R2: 0.4040, Validation Loss: 0.0272, Validation MAE: 68.9898, Validation RMSE: 89.4431, Validation R2: 0.4569\n",
      "Epoch [4/20], Train Loss: 0.0209, Train MAE: 59.0074, Train RMSE: 78.5033, Train R2: 0.6484, Validation Loss: 0.0200, Validation MAE: 57.2458, Validation RMSE: 76.6828, Validation R2: 0.6008\n",
      "Epoch [5/20], Train Loss: 0.0164, Train MAE: 51.7701, Train RMSE: 69.2358, Train R2: 0.7265, Validation Loss: 0.0139, Validation MAE: 48.2772, Validation RMSE: 63.9266, Validation R2: 0.7226\n",
      "Epoch [6/20], Train Loss: 0.0147, Train MAE: 49.1579, Train RMSE: 65.6448, Train R2: 0.7541, Validation Loss: 0.0131, Validation MAE: 46.7412, Validation RMSE: 62.0390, Validation R2: 0.7387\n",
      "Epoch [7/20], Train Loss: 0.0133, Train MAE: 47.3866, Train RMSE: 62.4257, Train R2: 0.7777, Validation Loss: 0.0096, Validation MAE: 41.1087, Validation RMSE: 53.3453, Validation R2: 0.8068\n",
      "Epoch [8/20], Train Loss: 0.0118, Train MAE: 44.3832, Train RMSE: 58.8359, Train R2: 0.8025, Validation Loss: 0.0083, Validation MAE: 37.9097, Validation RMSE: 49.4623, Validation R2: 0.8339\n",
      "Epoch [9/20], Train Loss: 0.0109, Train MAE: 42.4097, Train RMSE: 56.4684, Train R2: 0.8181, Validation Loss: 0.0087, Validation MAE: 38.3104, Validation RMSE: 50.5106, Validation R2: 0.8268\n",
      "Epoch [10/20], Train Loss: 0.0099, Train MAE: 40.5594, Train RMSE: 54.1320, Train R2: 0.8328, Validation Loss: 0.0075, Validation MAE: 35.8519, Validation RMSE: 46.9475, Validation R2: 0.8504\n",
      "Epoch [11/20], Train Loss: 0.0089, Train MAE: 38.5912, Train RMSE: 51.2844, Train R2: 0.8499, Validation Loss: 0.0068, Validation MAE: 33.9970, Validation RMSE: 44.7008, Validation R2: 0.8644\n",
      "Epoch [12/20], Train Loss: 0.0085, Train MAE: 37.5126, Train RMSE: 50.1102, Train R2: 0.8567, Validation Loss: 0.0076, Validation MAE: 36.2824, Validation RMSE: 47.2258, Validation R2: 0.8486\n",
      "Epoch [13/20], Train Loss: 0.0082, Train MAE: 36.9534, Train RMSE: 49.2378, Train R2: 0.8617, Validation Loss: 0.0073, Validation MAE: 35.9843, Validation RMSE: 46.3596, Validation R2: 0.8541\n",
      "Epoch [14/20], Train Loss: 0.0076, Train MAE: 35.6342, Train RMSE: 47.2300, Train R2: 0.8727, Validation Loss: 0.0062, Validation MAE: 32.7938, Validation RMSE: 42.9018, Validation R2: 0.8751\n",
      "Epoch [15/20], Train Loss: 0.0072, Train MAE: 34.4066, Train RMSE: 46.0868, Train R2: 0.8788, Validation Loss: 0.0060, Validation MAE: 32.2461, Validation RMSE: 42.0324, Validation R2: 0.8801\n",
      "Epoch [16/20], Train Loss: 0.0066, Train MAE: 33.1306, Train RMSE: 44.2554, Train R2: 0.8883, Validation Loss: 0.0056, Validation MAE: 30.8874, Validation RMSE: 40.6217, Validation R2: 0.8880\n",
      "Epoch [17/20], Train Loss: 0.0065, Train MAE: 32.8333, Train RMSE: 43.6899, Train R2: 0.8911, Validation Loss: 0.0063, Validation MAE: 33.4707, Validation RMSE: 43.0468, Validation R2: 0.8742\n",
      "Epoch [18/20], Train Loss: 0.0065, Train MAE: 32.9125, Train RMSE: 43.9761, Train R2: 0.8897, Validation Loss: 0.0058, Validation MAE: 31.5099, Validation RMSE: 41.2462, Validation R2: 0.8845\n",
      "Epoch [19/20], Train Loss: 0.0064, Train MAE: 32.4728, Train RMSE: 43.3775, Train R2: 0.8926, Validation Loss: 0.0063, Validation MAE: 32.2826, Validation RMSE: 42.9549, Validation R2: 0.8747\n",
      "Epoch [20/20], Train Loss: 0.0061, Train MAE: 31.9035, Train RMSE: 42.5765, Train R2: 0.8966, Validation Loss: 0.0058, Validation MAE: 31.6278, Validation RMSE: 41.4811, Validation R2: 0.8832\n",
      "Training completed in: 3.20 seconds.\n"
     ]
    }
   ],
   "source": [
    "train_losses = []\n",
    "val_losses = []\n",
    "train_mae = []  \n",
    "val_mae = []    \n",
    "train_rmse = [] \n",
    "val_rmse = []   \n",
    "train_r2 = []   \n",
    "val_r2 = []  \n",
    "\n",
    "log_dir = os.path.join(\"base_runs\", datetime.now().strftime(\"%Y%m%d-%H%M%S\"))\n",
    "writer = SummaryWriter(log_dir)\n",
    "\n",
    "device = torch.device(\"cuda\" if torch.cuda.is_available() else \"cpu\")\n",
    "# device = torch.device('mps' if torch.mps.is_available() else 'cpu')\n",
    "model = model.to(device)\n",
    "\n",
    "epochs = 20\n",
    "start = time.time()\n",
    "for epoch in range(epochs):\n",
    "    model.train()\n",
    "    train_loss = 0\n",
    "    train_absolute_error = 0.0\n",
    "    train_squared_error = 0.0\n",
    "    train_predictions = []  \n",
    "    train_actuals = []   \n",
    "    for X_batch, y_batch in train_loader:\n",
    "        X_batch, y_batch = X_batch.to(device), y_batch.to(device)\n",
    "        optimizer.zero_grad()\n",
    "        outputs = model(X_batch)\n",
    "        loss = loss_function(outputs.squeeze(), y_batch)\n",
    "        loss.backward()\n",
    "        optimizer.step()\n",
    "        train_loss += loss.item()\n",
    "        \n",
    "        outputs_denorm = scaler.inverse_transform(outputs.cpu().detach().numpy().reshape(-1, 1))\n",
    "        y_batch_denorm = scaler.inverse_transform(y_batch.cpu().detach().numpy().reshape(-1, 1))\n",
    "        \n",
    "        train_predictions.extend(outputs_denorm.flatten())\n",
    "        train_actuals.extend(y_batch_denorm.flatten())\n",
    "        \n",
    "        train_absolute_error += np.sum(np.abs(outputs_denorm - y_batch_denorm))\n",
    "        train_squared_error += np.sum((outputs_denorm - y_batch_denorm) ** 2)\n",
    "    \n",
    "    train_r2_epoch = r2_score(train_actuals, train_predictions)\n",
    "    train_r2.append(train_r2_epoch)\n",
    "    train_mae_epoch = train_absolute_error / len(train_loader.dataset)\n",
    "    train_rmse_epoch = (train_squared_error / len(train_loader.dataset)) ** 0.5\n",
    "    train_mae.append(train_mae_epoch)\n",
    "    train_rmse.append(train_rmse_epoch)\n",
    "    train_loss /= len(train_loader)\n",
    "    train_losses.append(train_loss)\n",
    "\n",
    "    # Validation\n",
    "    model.eval()\n",
    "    val_loss = 0\n",
    "    val_absolute_error = 0.0\n",
    "    val_squared_error = 0.0\n",
    "    val_predictions = []  \n",
    "    val_actuals = []    \n",
    "    with torch.no_grad():\n",
    "        for X_val_batch, y_val_batch in val_loader:\n",
    "            X_val_batch, y_val_batch = X_val_batch.to(device), y_val_batch.to(device)\n",
    "            val_outputs = model(X_val_batch)\n",
    "            val_loss += loss_function(val_outputs.squeeze(), y_val_batch).item()\n",
    "            \n",
    "            val_outputs_denorm = scaler.inverse_transform(val_outputs.cpu().detach().numpy().reshape(-1, 1))\n",
    "            y_val_batch_denorm = scaler.inverse_transform(y_val_batch.cpu().detach().numpy().reshape(-1, 1))\n",
    "            \n",
    "            val_predictions.extend(val_outputs_denorm.flatten())\n",
    "            val_actuals.extend(y_val_batch_denorm.flatten())\n",
    "            val_absolute_error += np.sum(np.abs(val_outputs_denorm - y_val_batch_denorm))\n",
    "            val_squared_error += np.sum((val_outputs_denorm - y_val_batch_denorm) ** 2)\n",
    "    \n",
    "    val_r2_epoch = r2_score(val_actuals, val_predictions)\n",
    "    val_r2.append(val_r2_epoch)\n",
    "    val_mae_epoch = val_absolute_error / len(val_loader.dataset)\n",
    "    val_rmse_epoch = (val_squared_error / len(val_loader.dataset)) ** 0.5\n",
    "    val_mae.append(val_mae_epoch)\n",
    "    val_rmse.append(val_rmse_epoch)\n",
    "    val_loss /= len(val_loader)\n",
    "    val_losses.append(val_loss)\n",
    "    \n",
    "    # Log metrics to TensorBoard\n",
    "    writer.add_scalar('Loss/train', train_loss, epoch)\n",
    "    writer.add_scalar('Loss/validation', val_loss, epoch)\n",
    "    writer.add_scalar('MAE/train', train_mae_epoch, epoch)\n",
    "    writer.add_scalar('MAE/validation', val_mae_epoch, epoch)\n",
    "    writer.add_scalar('RMSE/train', train_rmse_epoch, epoch)\n",
    "    writer.add_scalar('RMSE/validation', val_rmse_epoch, epoch)\n",
    "    writer.add_scalar('R2/train', train_r2_epoch, epoch)        \n",
    "    writer.add_scalar('R2/validation', val_r2_epoch, epoch)  \n",
    "\n",
    "    print(f'Epoch [{epoch + 1}/{epochs}], Train Loss: {train_loss:.4f}, Train MAE: {train_mae_epoch:.4f}, Train RMSE: {train_rmse_epoch:.4f}, Train R2: {train_r2_epoch:.4f}, Validation Loss: {val_loss:.4f}, Validation MAE: {val_mae_epoch:.4f}, Validation RMSE: {val_rmse_epoch:.4f}, Validation R2: {val_r2_epoch:.4f}')\n",
    "\n",
    "end = time.time()\n",
    "train_time = end - start\n",
    "print(f\"Training completed in: {train_time:.2f} seconds.\")\n",
    "\n",
    "writer.close()\n"
   ]
  },
  {
   "cell_type": "code",
   "execution_count": 50,
   "metadata": {},
   "outputs": [],
   "source": [
    "writer = SummaryWriter('base_runs/result')\n",
    "\n",
    "# Model evaluation on test set\n",
    "model.eval()\n",
    "total_loss = 0\n",
    "predictions = []\n",
    "actuals = []\n",
    "with torch.no_grad():\n",
    "    for X_batch, y_batch in test_loader:\n",
    "        X_batch, y_batch = X_batch.to(device), y_batch.to(device)\n",
    "        outputs = model(X_batch).squeeze()\n",
    "        loss = loss_function(outputs, y_batch)\n",
    "        total_loss += loss.item()\n",
    "        predictions.extend(outputs.cpu().numpy())\n",
    "        actuals.extend(y_batch.cpu().numpy())\n",
    "\n",
    "avg_loss = total_loss / len(test_loader)"
   ]
  },
  {
   "cell_type": "code",
   "execution_count": 51,
   "metadata": {},
   "outputs": [
    {
     "name": "stdout",
     "output_type": "stream",
     "text": [
      "\n",
      "Test Set Evaluation:\n",
      "Test Loss (MSE): 0.0064\n",
      "Test MAE: 34.4997\n",
      "Test RMSE: 43.4331\n",
      "Test R-squared: 0.8564\n"
     ]
    }
   ],
   "source": [
    "test_actuals = np.array(actuals).reshape(-1, 1)\n",
    "test_preds = np.array(predictions).reshape(-1, 1)\n",
    "\n",
    "test_actuals = scaler.inverse_transform(test_actuals)\n",
    "test_preds = scaler.inverse_transform(test_preds)\n",
    "\n",
    "test_loss = avg_loss\n",
    "mae = mean_absolute_error(test_actuals, test_preds)\n",
    "rmse = np.sqrt(mean_squared_error(test_actuals, test_preds))\n",
    "r2 = r2_score(test_actuals, test_preds)\n",
    "\n",
    "print(\"\\nTest Set Evaluation:\")\n",
    "print(f\"Test Loss (MSE): {test_loss:.4f}\")\n",
    "print(f\"Test MAE: {mae:.4f}\")\n",
    "print(f\"Test RMSE: {rmse:.4f}\")\n",
    "print(f\"Test R-squared: {r2:.4f}\")\n",
    "\n",
    "writer.add_scalar('Loss/test', test_loss)\n",
    "writer.add_scalar('MAE/test', mae)\n",
    "writer.add_scalar('RMSE/test', rmse)\n",
    "writer.add_scalar('R-squared/test', r2)\n",
    "\n",
    "writer.close()"
   ]
  },
  {
   "cell_type": "code",
   "execution_count": 52,
   "metadata": {},
   "outputs": [],
   "source": [
    "base_train_accuracies = train_r2\n",
    "base_val_accuracies = val_r2\n",
    "base_train_losses = train_losses\n",
    "base_val_losses = val_losses\n",
    "base_train_mae = train_mae\n",
    "base_val_mae = val_mae\n",
    "base_train_rmse = train_rmse\n",
    "base_val_rmse = val_rmse\n",
    "base_test_accuracy = r2\n",
    "base_test_loss = test_loss\n",
    "base_all_labels = test_actuals\n",
    "base_all_preds = test_preds\n",
    "base_model = model"
   ]
  },
  {
   "cell_type": "markdown",
   "metadata": {},
   "source": [
    "### Enhanced Model Architecture"
   ]
  },
  {
   "cell_type": "markdown",
   "metadata": {},
   "source": [
    "<span style='color:green'>\n",
    "    \n",
    "#### **Key Features of the Enhanced LSTM Network:**\n",
    "    \n",
    "1. **Stacked Bidirectional LSTM Layers:**\n",
    "   - Consists of **three bidirectional LSTM layers** to capture patterns in both **forward and backward directions**.\n",
    "   - Helps in learning **complex temporal dependencies**.\n",
    "\n",
    "2. **Layer Normalization:**\n",
    "   - **LayerNorm** is applied after each fully connected layer to **stabilize training** by **normalizing activations**.  \n",
    "   - Helps prevent **internal covariate shift** and speeds up convergence.  \n",
    "\n",
    "3. **Activation Functions:**\n",
    "   - **`tanh` activation** for LSTM layers to regulate the range of cell states.  \n",
    "   - **ReLU activation** for fully connected layers to introduce **non-linearity**.\n",
    "\n",
    "4. **Dropout for Regularization:**\n",
    "   - Uses a **dropout rate of 0.3** in LSTM layers to **prevent overfitting** by randomly disabling neurons during training.\n",
    "   - Applies **0.2 dropout** in fully connected layers for additional regularization.\n",
    "\n",
    "5. **Fully Connected Layers:**\n",
    "   - Includes **three fully connected layers** to map LSTM outputs to final predictions.\n",
    "   - **Decreasing layer sizes** (128 → 64 → 32) for **progressive information compression**.\n",
    "\n",
    "\n",
    "</span>"
   ]
  },
  {
   "cell_type": "code",
   "execution_count": 55,
   "metadata": {},
   "outputs": [],
   "source": [
    "class EnhancedLSTMModel(nn.Module):\n",
    "    def __init__(self, input_size=1, hidden_size=128, num_layers=3, dropout_rate=0.3):\n",
    "        super(EnhancedLSTMModel, self).__init__()\n",
    "        self.lstm = nn.LSTM(input_size, hidden_size, num_layers, \n",
    "                            dropout=dropout_rate, batch_first=True, bidirectional=True)\n",
    "        self.dropout = nn.Dropout(dropout_rate)\n",
    "        self.fc1 = nn.Linear(hidden_size * 2, 128)\n",
    "        self.bn1 = nn.LayerNorm(128)\n",
    "        self.fc2 = nn.Linear(128, 64)\n",
    "        self.bn2 = nn.LayerNorm(64) \n",
    "        self.fc3 = nn.Linear(64, 32)\n",
    "        self.bn3 = nn.LayerNorm(32)  \n",
    "        self.fc_out = nn.Linear(32, 1)\n",
    "\n",
    "    def forward(self, x):\n",
    "        out, _ = self.lstm(x)\n",
    "        out = self.dropout(out[:, -1, :])\n",
    "        out = torch.relu(self.bn1(self.fc1(out)))\n",
    "        out = torch.dropout(out, 0.2, train=self.training)  \n",
    "        out = torch.relu(self.bn2(self.fc2(out)))\n",
    "        out = torch.dropout(out, 0.2, train=self.training)\n",
    "        out = torch.relu(self.bn3(self.fc3(out)))\n",
    "        out = torch.dropout(out, 0.2, train=self.training) \n",
    "        out = self.fc_out(out)\n",
    "        return out"
   ]
  },
  {
   "cell_type": "code",
   "execution_count": 56,
   "metadata": {},
   "outputs": [],
   "source": [
    "model = EnhancedLSTMModel().to(device)"
   ]
  },
  {
   "cell_type": "code",
   "execution_count": 60,
   "metadata": {},
   "outputs": [
    {
     "data": {
      "text/plain": [
       "==========================================================================================\n",
       "Layer (type:depth-idx)                   Output Shape              Param #\n",
       "==========================================================================================\n",
       "EnhancedLSTMModel                        [64, 1]                   --\n",
       "├─LSTM: 1-1                              [64, 24, 256]             924,672\n",
       "├─Dropout: 1-2                           [64, 256]                 --\n",
       "├─Linear: 1-3                            [64, 128]                 32,896\n",
       "├─LayerNorm: 1-4                         [64, 128]                 256\n",
       "├─Linear: 1-5                            [64, 64]                  8,256\n",
       "├─LayerNorm: 1-6                         [64, 64]                  128\n",
       "├─Linear: 1-7                            [64, 32]                  2,080\n",
       "├─LayerNorm: 1-8                         [64, 32]                  64\n",
       "├─Linear: 1-9                            [64, 1]                   33\n",
       "==========================================================================================\n",
       "Total params: 968,385\n",
       "Trainable params: 968,385\n",
       "Non-trainable params: 0\n",
       "Total mult-adds (G): 1.42\n",
       "==========================================================================================\n",
       "Input size (MB): 0.01\n",
       "Forward/backward pass size (MB): 3.38\n",
       "Params size (MB): 3.87\n",
       "Estimated Total Size (MB): 7.26\n",
       "=========================================================================================="
      ]
     },
     "execution_count": 60,
     "metadata": {},
     "output_type": "execute_result"
    }
   ],
   "source": [
    "summary(model, input_size=(batch_size, seq_length, 1))"
   ]
  },
  {
   "cell_type": "code",
   "execution_count": 61,
   "metadata": {},
   "outputs": [],
   "source": [
    "loss_function = nn.MSELoss()\n",
    "optimizer = optim.Adam(model.parameters(), lr=0.001)\n",
    "scheduler = optim.lr_scheduler.ReduceLROnPlateau(optimizer, 'min', patience=3, factor=0.1)"
   ]
  },
  {
   "cell_type": "code",
   "execution_count": 62,
   "metadata": {},
   "outputs": [
    {
     "name": "stdout",
     "output_type": "stream",
     "text": [
      "Epoch [1/20], Train Loss: 0.0992, Train MAE: 136.6111, Train RMSE: 171.2001, Train R2: -0.6723, Validation Loss: 0.0499, Validation MAE: 99.1717, Validation RMSE: 121.3654, Validation R2: 0.0001\n",
      "Epoch [2/20], Train Loss: 0.0713, Train MAE: 119.9411, Train RMSE: 145.2406, Train R2: -0.2036, Validation Loss: 0.0510, Validation MAE: 96.4446, Validation RMSE: 122.6391, Validation R2: -0.0210\n",
      "Epoch [3/20], Train Loss: 0.0693, Train MAE: 118.7426, Train RMSE: 143.1561, Train R2: -0.1693, Validation Loss: 0.0501, Validation MAE: 98.2316, Validation RMSE: 121.5577, Validation R2: -0.0031\n",
      "Epoch [4/20], Train Loss: 0.0658, Train MAE: 115.6428, Train RMSE: 139.5381, Train R2: -0.1109, Validation Loss: 0.0504, Validation MAE: 96.8810, Validation RMSE: 121.9609, Validation R2: -0.0098\n",
      "Epoch [5/20], Train Loss: 0.0616, Train MAE: 111.2837, Train RMSE: 134.9506, Train R2: -0.0391, Validation Loss: 0.0355, Validation MAE: 79.1445, Validation RMSE: 102.1809, Validation R2: 0.2912\n",
      "Epoch [6/20], Train Loss: 0.0404, Train MAE: 88.9662, Train RMSE: 109.3694, Train R2: 0.3175, Validation Loss: 0.0358, Validation MAE: 81.2375, Validation RMSE: 102.7903, Validation R2: 0.2827\n",
      "Epoch [7/20], Train Loss: 0.0304, Train MAE: 75.3650, Train RMSE: 94.9596, Train R2: 0.4855, Validation Loss: 0.0142, Validation MAE: 51.0550, Validation RMSE: 64.6096, Validation R2: 0.7166\n",
      "Epoch [8/20], Train Loss: 0.0230, Train MAE: 64.1760, Train RMSE: 82.1712, Train R2: 0.6148, Validation Loss: 0.0088, Validation MAE: 40.0212, Validation RMSE: 50.7652, Validation R2: 0.8251\n",
      "Epoch [9/20], Train Loss: 0.0187, Train MAE: 57.3490, Train RMSE: 74.1867, Train R2: 0.6860, Validation Loss: 0.0075, Validation MAE: 36.2222, Validation RMSE: 47.0611, Validation R2: 0.8497\n",
      "Epoch [10/20], Train Loss: 0.0164, Train MAE: 54.1317, Train RMSE: 69.5364, Train R2: 0.7241, Validation Loss: 0.0074, Validation MAE: 36.0651, Validation RMSE: 46.7192, Validation R2: 0.8518\n",
      "Epoch [11/20], Train Loss: 0.0160, Train MAE: 53.9646, Train RMSE: 68.9932, Train R2: 0.7284, Validation Loss: 0.0067, Validation MAE: 33.8742, Validation RMSE: 44.3233, Validation R2: 0.8666\n",
      "Epoch [12/20], Train Loss: 0.0148, Train MAE: 51.0749, Train RMSE: 66.2706, Train R2: 0.7494, Validation Loss: 0.0056, Validation MAE: 32.1019, Validation RMSE: 40.6538, Validation R2: 0.8878\n",
      "Epoch [13/20], Train Loss: 0.0140, Train MAE: 49.6792, Train RMSE: 64.1201, Train R2: 0.7654, Validation Loss: 0.0060, Validation MAE: 32.7827, Validation RMSE: 42.0598, Validation R2: 0.8799\n",
      "Epoch [14/20], Train Loss: 0.0133, Train MAE: 48.4928, Train RMSE: 62.5039, Train R2: 0.7771, Validation Loss: 0.0062, Validation MAE: 32.8406, Validation RMSE: 42.7146, Validation R2: 0.8761\n",
      "Epoch [15/20], Train Loss: 0.0130, Train MAE: 48.0810, Train RMSE: 62.0316, Train R2: 0.7805, Validation Loss: 0.0056, Validation MAE: 31.0501, Validation RMSE: 40.5259, Validation R2: 0.8885\n",
      "Epoch [16/20], Train Loss: 0.0130, Train MAE: 48.1289, Train RMSE: 61.6974, Train R2: 0.7828, Validation Loss: 0.0060, Validation MAE: 32.4340, Validation RMSE: 41.9075, Validation R2: 0.8808\n",
      "Epoch [17/20], Train Loss: 0.0130, Train MAE: 47.5695, Train RMSE: 61.7847, Train R2: 0.7822, Validation Loss: 0.0050, Validation MAE: 30.0507, Validation RMSE: 38.5695, Validation R2: 0.8990\n",
      "Epoch [18/20], Train Loss: 0.0123, Train MAE: 46.5565, Train RMSE: 60.1911, Train R2: 0.7933, Validation Loss: 0.0055, Validation MAE: 31.4455, Validation RMSE: 40.1197, Validation R2: 0.8907\n",
      "Epoch [19/20], Train Loss: 0.0130, Train MAE: 48.1859, Train RMSE: 61.7177, Train R2: 0.7827, Validation Loss: 0.0052, Validation MAE: 30.2779, Validation RMSE: 39.1182, Validation R2: 0.8961\n",
      "Epoch [20/20], Train Loss: 0.0113, Train MAE: 45.0880, Train RMSE: 57.9269, Train R2: 0.8085, Validation Loss: 0.0052, Validation MAE: 30.4056, Validation RMSE: 39.1378, Validation R2: 0.8960\n",
      "Training completed in: 4.42 seconds.\n"
     ]
    }
   ],
   "source": [
    "train_losses = []\n",
    "val_losses = []\n",
    "train_mae = []  \n",
    "val_mae = []    \n",
    "train_rmse = [] \n",
    "val_rmse = []   \n",
    "train_r2 = []   \n",
    "val_r2 = []  \n",
    "\n",
    "log_dir = os.path.join(\"enhance_runs\", datetime.now().strftime(\"%Y%m%d-%H%M%S\"))\n",
    "writer = SummaryWriter(log_dir)\n",
    "\n",
    "device = torch.device(\"cuda\" if torch.cuda.is_available() else \"cpu\")\n",
    "model = model.to(device)\n",
    "\n",
    "epochs = 20\n",
    "start = time.time()\n",
    "for epoch in range(epochs):\n",
    "    model.train()\n",
    "    train_loss = 0\n",
    "    train_absolute_error = 0.0\n",
    "    train_squared_error = 0.0\n",
    "    train_predictions = []  \n",
    "    train_actuals = []   \n",
    "    for X_batch, y_batch in train_loader:\n",
    "        X_batch, y_batch = X_batch.to(device), y_batch.to(device)\n",
    "        optimizer.zero_grad()\n",
    "        outputs = model(X_batch)\n",
    "        loss = loss_function(outputs.squeeze(), y_batch)\n",
    "        loss.backward()\n",
    "        optimizer.step()\n",
    "        train_loss += loss.item()\n",
    "        \n",
    "        outputs_denorm = scaler.inverse_transform(outputs.cpu().detach().numpy().reshape(-1, 1))\n",
    "        y_batch_denorm = scaler.inverse_transform(y_batch.cpu().detach().numpy().reshape(-1, 1))\n",
    "        \n",
    "        train_predictions.extend(outputs_denorm.flatten())\n",
    "        train_actuals.extend(y_batch_denorm.flatten())\n",
    "        \n",
    "        train_absolute_error += np.sum(np.abs(outputs_denorm - y_batch_denorm))\n",
    "        train_squared_error += np.sum((outputs_denorm - y_batch_denorm) ** 2)\n",
    "    \n",
    "    train_r2_epoch = r2_score(train_actuals, train_predictions)\n",
    "    train_r2.append(train_r2_epoch)\n",
    "    train_mae_epoch = train_absolute_error / len(train_loader.dataset)\n",
    "    train_rmse_epoch = (train_squared_error / len(train_loader.dataset)) ** 0.5\n",
    "    train_mae.append(train_mae_epoch)\n",
    "    train_rmse.append(train_rmse_epoch)\n",
    "    train_loss /= len(train_loader)\n",
    "    train_losses.append(train_loss)\n",
    "\n",
    "    # Validation\n",
    "    model.eval()\n",
    "    val_loss = 0\n",
    "    val_absolute_error = 0.0\n",
    "    val_squared_error = 0.0\n",
    "    val_predictions = []  \n",
    "    val_actuals = []    \n",
    "    with torch.no_grad():\n",
    "        for X_val_batch, y_val_batch in val_loader:\n",
    "            X_val_batch, y_val_batch = X_val_batch.to(device), y_val_batch.to(device)\n",
    "            val_outputs = model(X_val_batch)\n",
    "            val_loss += loss_function(val_outputs.squeeze(), y_val_batch).item()\n",
    "            \n",
    "            val_outputs_denorm = scaler.inverse_transform(val_outputs.cpu().detach().numpy().reshape(-1, 1))\n",
    "            y_val_batch_denorm = scaler.inverse_transform(y_val_batch.cpu().detach().numpy().reshape(-1, 1))\n",
    "            \n",
    "            val_predictions.extend(val_outputs_denorm.flatten())\n",
    "            val_actuals.extend(y_val_batch_denorm.flatten())\n",
    "            val_absolute_error += np.sum(np.abs(val_outputs_denorm - y_val_batch_denorm))\n",
    "            val_squared_error += np.sum((val_outputs_denorm - y_val_batch_denorm) ** 2)\n",
    "    \n",
    "    val_r2_epoch = r2_score(val_actuals, val_predictions)\n",
    "    val_r2.append(val_r2_epoch)\n",
    "    val_mae_epoch = val_absolute_error / len(val_loader.dataset)\n",
    "    val_rmse_epoch = (val_squared_error / len(val_loader.dataset)) ** 0.5\n",
    "    val_mae.append(val_mae_epoch)\n",
    "    val_rmse.append(val_rmse_epoch)\n",
    "    val_loss /= len(val_loader)\n",
    "    val_losses.append(val_loss)\n",
    "    scheduler.step(val_loss)\n",
    "    \n",
    "    # Log metrics to TensorBoard\n",
    "    writer.add_scalar('Loss/train', train_loss, epoch)\n",
    "    writer.add_scalar('Loss/validation', val_loss, epoch)\n",
    "    writer.add_scalar('MAE/train', train_mae_epoch, epoch)\n",
    "    writer.add_scalar('MAE/validation', val_mae_epoch, epoch)\n",
    "    writer.add_scalar('RMSE/train', train_rmse_epoch, epoch)\n",
    "    writer.add_scalar('RMSE/validation', val_rmse_epoch, epoch)\n",
    "    writer.add_scalar('R2/train', train_r2_epoch, epoch)        \n",
    "    writer.add_scalar('R2/validation', val_r2_epoch, epoch)  \n",
    "\n",
    "    print(f'Epoch [{epoch + 1}/{epochs}], Train Loss: {train_loss:.4f}, Train MAE: {train_mae_epoch:.4f}, Train RMSE: {train_rmse_epoch:.4f}, Train R2: {train_r2_epoch:.4f}, Validation Loss: {val_loss:.4f}, Validation MAE: {val_mae_epoch:.4f}, Validation RMSE: {val_rmse_epoch:.4f}, Validation R2: {val_r2_epoch:.4f}')\n",
    "\n",
    "end = time.time()\n",
    "train_time = end - start\n",
    "print(f\"Training completed in: {train_time:.2f} seconds.\")\n",
    "\n",
    "writer.close()\n"
   ]
  },
  {
   "cell_type": "code",
   "execution_count": 63,
   "metadata": {},
   "outputs": [],
   "source": [
    "writer = SummaryWriter('enhance_runs/result')\n",
    "\n",
    "# Model evaluation on test set\n",
    "model.eval()\n",
    "total_loss = 0\n",
    "predictions = []\n",
    "actuals = []\n",
    "with torch.no_grad():\n",
    "    for X_batch, y_batch in test_loader:\n",
    "        X_batch, y_batch = X_batch.to(device), y_batch.to(device)\n",
    "        outputs = model(X_batch).squeeze()\n",
    "        loss = loss_function(outputs, y_batch)\n",
    "        total_loss += loss.item()\n",
    "        predictions.extend(outputs.cpu().numpy())\n",
    "        actuals.extend(y_batch.cpu().numpy())\n",
    "\n",
    "avg_loss = total_loss / len(test_loader)"
   ]
  },
  {
   "cell_type": "code",
   "execution_count": 64,
   "metadata": {},
   "outputs": [
    {
     "name": "stdout",
     "output_type": "stream",
     "text": [
      "\n",
      "Test Set Evaluation:\n",
      "Test Loss (MSE): 0.0051\n",
      "Test MAE: 30.1002\n",
      "Test RMSE: 38.9118\n",
      "Test R-squared: 0.8847\n"
     ]
    }
   ],
   "source": [
    "test_actuals = np.array(actuals).reshape(-1, 1)\n",
    "test_preds = np.array(predictions).reshape(-1, 1)\n",
    "\n",
    "test_actuals = scaler.inverse_transform(test_actuals)\n",
    "test_preds = scaler.inverse_transform(test_preds)\n",
    "\n",
    "test_loss = avg_loss\n",
    "mae = mean_absolute_error(test_actuals, test_preds)\n",
    "rmse = np.sqrt(mean_squared_error(test_actuals, test_preds))\n",
    "r2 = r2_score(test_actuals, test_preds)\n",
    "\n",
    "print(\"\\nTest Set Evaluation:\")\n",
    "print(f\"Test Loss (MSE): {test_loss:.4f}\")\n",
    "print(f\"Test MAE: {mae:.4f}\")\n",
    "print(f\"Test RMSE: {rmse:.4f}\")\n",
    "print(f\"Test R-squared: {r2:.4f}\")\n",
    "\n",
    "writer.add_scalar('Loss/test', test_loss)\n",
    "writer.add_scalar('MAE/test', mae)\n",
    "writer.add_scalar('RMSE/test', rmse)\n",
    "writer.add_scalar('R-squared/test', r2)\n",
    "\n",
    "writer.close()"
   ]
  },
  {
   "cell_type": "code",
   "execution_count": 65,
   "metadata": {},
   "outputs": [],
   "source": [
    "enhance_train_accuracies = train_r2\n",
    "enhance_val_accuracies = val_r2\n",
    "enhance_train_losses = train_losses\n",
    "enhance_val_losses = val_losses\n",
    "enhance_test_accuracy = r2\n",
    "enhance_test_loss = test_loss\n",
    "enhance_all_labels = test_actuals\n",
    "enhance_all_preds = test_preds\n",
    "enhance_model = model\n",
    "enhance_train_mae = train_mae\n",
    "enhance_val_mae = val_mae\n",
    "enhance_train_rmse = train_rmse\n",
    "enhance_val_rmse = val_rmse"
   ]
  },
  {
   "cell_type": "markdown",
   "metadata": {},
   "source": [
    "## Hyper Parameter Tuning"
   ]
  },
  {
   "cell_type": "markdown",
   "metadata": {},
   "source": [
    "<span style='color:green'>\n",
    "\n",
    "We used **Optuna**, a Bayesian optimization framework, to automate hyperparameter tuning. Optuna's **Tree-structured Parzen Estimator (TPE)** efficiently explores promising hyperparameter combinations based on past trials. It includes automated pruning which is effective compared to random search and grid search methods.\n",
    "\n",
    "### **Key Hyperparameters Tuned:**\n",
    "- **`learning_rate:`** Controls step size for optimization.  \n",
    "- **`hidden_size:`** Number of neurons in LSTM layers.  \n",
    "- **`dropout_rate:`** Prevents overfitting by dropping neurons randomly.  \n",
    "- **`seq_length:`** Number of time steps fed into the model.  \n",
    "- **`batch_size:`** Number of samples per update.  \n",
    "- **`num_layers:`** Depth of the LSTM model.  \n",
    "    \n",
    "</span>"
   ]
  },
  {
   "cell_type": "code",
   "execution_count": 68,
   "metadata": {},
   "outputs": [],
   "source": [
    "def objective(trial):\n",
    "    # Hyperparameter suggestions\n",
    "    learning_rate = trial.suggest_float('learning_rate', 1e-4, 1e-2, log=True)\n",
    "    hidden_size = trial.suggest_categorical('hidden_size', [32, 64, 128])\n",
    "    dropout_rate = trial.suggest_categorical('dropout_rate', [0.2, 0.3, 0.5])\n",
    "    seq_length = trial.suggest_categorical('seq_length', [24, 48, 72, 96])\n",
    "    batch_size = trial.suggest_categorical('batch_size', [32, 64, 128])\n",
    "    epochs = trial.suggest_categorical('epochs', [20, 30, 40, 50])\n",
    "    num_layers = trial.suggest_categorical('num_layers', [3, 4, 5])\n",
    "\n",
    "    # Prepare data (replace with your data loading code)\n",
    "    X_train, y_train = create_sequences(train_data, seq_length)\n",
    "    X_val, y_val = create_sequences(val_data, seq_length)\n",
    "    X_test, y_test = create_sequences(test_data, seq_length)\n",
    "\n",
    "    X_train_tensor = torch.tensor(X_train, dtype=torch.float32).unsqueeze(-1)\n",
    "    y_train_tensor = torch.tensor(y_train, dtype=torch.float32)\n",
    "    X_val_tensor = torch.tensor(X_val, dtype=torch.float32).unsqueeze(-1)\n",
    "    y_val_tensor = torch.tensor(y_val, dtype=torch.float32)\n",
    "    X_test_tensor = torch.tensor(X_test, dtype=torch.float32).unsqueeze(-1)\n",
    "    y_test_tensor = torch.tensor(y_test, dtype=torch.float32)\n",
    "\n",
    "    train_dataset = TensorDataset(X_train_tensor, y_train_tensor)\n",
    "    val_dataset = TensorDataset(X_val_tensor, y_val_tensor)\n",
    "    test_dataset = TensorDataset(X_test_tensor, y_test_tensor)\n",
    "\n",
    "    train_loader = DataLoader(train_dataset, batch_size=batch_size, shuffle=False)#, drop_last=True)\n",
    "    val_loader = DataLoader(val_dataset, batch_size=batch_size, shuffle=False)#, drop_last=True)\n",
    "    test_loader = DataLoader(test_dataset, batch_size=batch_size, shuffle=False)#, drop_last=True)\n",
    "\n",
    "\n",
    "    # Model, optimizer, and loss function\n",
    "    model = EnhancedLSTMModel(input_size=1, hidden_size=hidden_size, num_layers=num_layers, dropout_rate=dropout_rate).to(device)\n",
    "    optimizer = optim.Adam(model.parameters(), lr=learning_rate)\n",
    "    loss_function = nn.MSELoss()\n",
    "    scheduler = optim.lr_scheduler.ReduceLROnPlateau(optimizer, 'min', patience=3, factor=0.1)\n",
    "\n",
    "    # Training loop\n",
    "    for epoch in range(epochs):\n",
    "        model.train()\n",
    "        for X_batch, y_batch in train_loader:\n",
    "            X_batch, y_batch = X_batch.to(device), y_batch.to(device)\n",
    "            optimizer.zero_grad()\n",
    "            outputs = model(X_batch)\n",
    "            loss = loss_function(outputs.squeeze(), y_batch)\n",
    "            loss.backward()\n",
    "            optimizer.step()\n",
    "\n",
    "        # Validation loop\n",
    "        model.eval()\n",
    "        val_loss = 0\n",
    "        with torch.no_grad():\n",
    "            for X_val_batch, y_val_batch in val_loader:\n",
    "                X_val_batch, y_val_batch = X_val_batch.to(device), y_val_batch.to(device)\n",
    "                val_outputs = model(X_val_batch)\n",
    "                loss = loss_function(val_outputs.squeeze(), y_val_batch)\n",
    "                val_loss += loss.item()\n",
    "\n",
    "        avg_val_loss = val_loss / len(val_loader)\n",
    "        scheduler.step(avg_val_loss)\n",
    "\n",
    "    # Testing loop\n",
    "    model.eval()\n",
    "    total_loss = 0\n",
    "    with torch.no_grad():\n",
    "        for X_batch, y_batch in test_loader:\n",
    "            X_batch, y_batch = X_batch.to(device), y_batch.to(device)\n",
    "            outputs = model(X_batch).squeeze()\n",
    "            loss = loss_function(outputs, y_batch)\n",
    "            total_loss += loss.item()\n",
    "\n",
    "    avg_loss = total_loss / len(test_loader)\n",
    "    return avg_loss"
   ]
  },
  {
   "cell_type": "code",
   "execution_count": 69,
   "metadata": {},
   "outputs": [
    {
     "name": "stderr",
     "output_type": "stream",
     "text": [
      "[I 2025-03-06 17:38:52,608] A new study created in memory with name: no-name-31383aa2-0bc5-485a-9450-b59ffeb15d57\n",
      "[I 2025-03-06 17:38:57,985] Trial 0 finished with value: 0.04487382769584656 and parameters: {'learning_rate': 0.0050762373643105626, 'hidden_size': 32, 'dropout_rate': 0.5, 'seq_length': 96, 'batch_size': 128, 'epochs': 50, 'num_layers': 3}. Best is trial 0 with value: 0.04487382769584656.\n",
      "[I 2025-03-06 17:39:02,818] Trial 1 finished with value: 0.04488715305924416 and parameters: {'learning_rate': 0.009188641278897404, 'hidden_size': 32, 'dropout_rate': 0.2, 'seq_length': 96, 'batch_size': 128, 'epochs': 40, 'num_layers': 4}. Best is trial 0 with value: 0.04487382769584656.\n",
      "[I 2025-03-06 17:39:11,121] Trial 2 finished with value: 0.005471233486835109 and parameters: {'learning_rate': 0.0006498412139651574, 'hidden_size': 32, 'dropout_rate': 0.3, 'seq_length': 72, 'batch_size': 32, 'epochs': 20, 'num_layers': 4}. Best is trial 2 with value: 0.005471233486835109.\n",
      "[I 2025-03-06 17:39:16,013] Trial 3 finished with value: 0.04510351344943046 and parameters: {'learning_rate': 0.00011140306170101133, 'hidden_size': 128, 'dropout_rate': 0.5, 'seq_length': 24, 'batch_size': 64, 'epochs': 20, 'num_layers': 5}. Best is trial 2 with value: 0.005471233486835109.\n",
      "[I 2025-03-06 17:39:18,315] Trial 4 finished with value: 0.004927513469010591 and parameters: {'learning_rate': 0.003942562205080296, 'hidden_size': 32, 'dropout_rate': 0.2, 'seq_length': 48, 'batch_size': 128, 'epochs': 20, 'num_layers': 4}. Best is trial 4 with value: 0.004927513469010591.\n",
      "[I 2025-03-06 17:39:22,765] Trial 5 finished with value: 0.044932443648576736 and parameters: {'learning_rate': 0.004873620121137062, 'hidden_size': 128, 'dropout_rate': 0.3, 'seq_length': 48, 'batch_size': 128, 'epochs': 30, 'num_layers': 5}. Best is trial 4 with value: 0.004927513469010591.\n",
      "[I 2025-03-06 17:39:34,864] Trial 6 finished with value: 0.04444551732587187 and parameters: {'learning_rate': 0.006944235268345586, 'hidden_size': 128, 'dropout_rate': 0.2, 'seq_length': 72, 'batch_size': 32, 'epochs': 30, 'num_layers': 3}. Best is trial 4 with value: 0.004927513469010591.\n",
      "[I 2025-03-06 17:39:49,669] Trial 7 finished with value: 0.0040609078973324764 and parameters: {'learning_rate': 0.0020618758387034894, 'hidden_size': 64, 'dropout_rate': 0.3, 'seq_length': 96, 'batch_size': 32, 'epochs': 40, 'num_layers': 3}. Best is trial 7 with value: 0.0040609078973324764.\n",
      "[I 2025-03-06 17:39:52,755] Trial 8 finished with value: 0.005660421960055828 and parameters: {'learning_rate': 0.004030050420391121, 'hidden_size': 32, 'dropout_rate': 0.5, 'seq_length': 48, 'batch_size': 128, 'epochs': 30, 'num_layers': 3}. Best is trial 7 with value: 0.0040609078973324764.\n",
      "[I 2025-03-06 17:40:13,018] Trial 9 finished with value: 0.005157069192807141 and parameters: {'learning_rate': 0.0001283737044248272, 'hidden_size': 128, 'dropout_rate': 0.2, 'seq_length': 72, 'batch_size': 32, 'epochs': 40, 'num_layers': 4}. Best is trial 7 with value: 0.0040609078973324764.\n",
      "[I 2025-03-06 17:40:20,945] Trial 10 finished with value: 0.0040421329128245516 and parameters: {'learning_rate': 0.001433047748891186, 'hidden_size': 64, 'dropout_rate': 0.3, 'seq_length': 96, 'batch_size': 64, 'epochs': 40, 'num_layers': 3}. Best is trial 10 with value: 0.0040421329128245516.\n",
      "[I 2025-03-06 17:40:28,874] Trial 11 finished with value: 0.0049383701342675425 and parameters: {'learning_rate': 0.0011722849222510561, 'hidden_size': 64, 'dropout_rate': 0.3, 'seq_length': 96, 'batch_size': 64, 'epochs': 40, 'num_layers': 3}. Best is trial 10 with value: 0.0040421329128245516.\n",
      "[I 2025-03-06 17:40:36,807] Trial 12 finished with value: 0.004220201064729028 and parameters: {'learning_rate': 0.0014162825282016088, 'hidden_size': 64, 'dropout_rate': 0.3, 'seq_length': 96, 'batch_size': 64, 'epochs': 40, 'num_layers': 3}. Best is trial 10 with value: 0.0040421329128245516.\n",
      "[I 2025-03-06 17:40:44,730] Trial 13 finished with value: 0.004567092155209846 and parameters: {'learning_rate': 0.000538969082572411, 'hidden_size': 64, 'dropout_rate': 0.3, 'seq_length': 96, 'batch_size': 64, 'epochs': 40, 'num_layers': 3}. Best is trial 10 with value: 0.0040421329128245516.\n",
      "[I 2025-03-06 17:41:02,623] Trial 14 finished with value: 0.0038003503694199027 and parameters: {'learning_rate': 0.0020383923075777133, 'hidden_size': 64, 'dropout_rate': 0.3, 'seq_length': 24, 'batch_size': 32, 'epochs': 50, 'num_layers': 3}. Best is trial 14 with value: 0.0038003503694199027.\n",
      "[I 2025-03-06 17:41:20,503] Trial 15 finished with value: 0.004833449830766767 and parameters: {'learning_rate': 0.0003629905000719906, 'hidden_size': 64, 'dropout_rate': 0.3, 'seq_length': 24, 'batch_size': 32, 'epochs': 50, 'num_layers': 3}. Best is trial 14 with value: 0.0038003503694199027.\n",
      "[I 2025-03-06 17:41:32,349] Trial 16 finished with value: 0.044949281588196756 and parameters: {'learning_rate': 0.002297760767902786, 'hidden_size': 64, 'dropout_rate': 0.3, 'seq_length': 24, 'batch_size': 64, 'epochs': 50, 'num_layers': 5}. Best is trial 14 with value: 0.0038003503694199027.\n",
      "[I 2025-03-06 17:41:41,803] Trial 17 finished with value: 0.005135514959692955 and parameters: {'learning_rate': 0.00025714156640608383, 'hidden_size': 64, 'dropout_rate': 0.3, 'seq_length': 24, 'batch_size': 64, 'epochs': 50, 'num_layers': 3}. Best is trial 14 with value: 0.0038003503694199027.\n",
      "[I 2025-03-06 17:41:59,743] Trial 18 finished with value: 0.004328907572198659 and parameters: {'learning_rate': 0.0022902799685796302, 'hidden_size': 64, 'dropout_rate': 0.3, 'seq_length': 24, 'batch_size': 32, 'epochs': 50, 'num_layers': 3}. Best is trial 14 with value: 0.0038003503694199027.\n",
      "[I 2025-03-06 17:42:11,589] Trial 19 finished with value: 0.04494252167642117 and parameters: {'learning_rate': 0.0008851789421120094, 'hidden_size': 64, 'dropout_rate': 0.5, 'seq_length': 24, 'batch_size': 64, 'epochs': 50, 'num_layers': 5}. Best is trial 14 with value: 0.0038003503694199027.\n",
      "[I 2025-03-06 17:42:26,337] Trial 20 finished with value: 0.004158033446098368 and parameters: {'learning_rate': 0.00171901187699476, 'hidden_size': 64, 'dropout_rate': 0.3, 'seq_length': 96, 'batch_size': 32, 'epochs': 40, 'num_layers': 3}. Best is trial 14 with value: 0.0038003503694199027.\n",
      "[I 2025-03-06 17:42:41,068] Trial 21 finished with value: 0.0039101903870080905 and parameters: {'learning_rate': 0.0024418380554890894, 'hidden_size': 64, 'dropout_rate': 0.3, 'seq_length': 96, 'batch_size': 32, 'epochs': 40, 'num_layers': 3}. Best is trial 14 with value: 0.0038003503694199027.\n",
      "[I 2025-03-06 17:42:55,805] Trial 22 finished with value: 0.04398558847606182 and parameters: {'learning_rate': 0.0028217734266494103, 'hidden_size': 64, 'dropout_rate': 0.3, 'seq_length': 96, 'batch_size': 32, 'epochs': 40, 'num_layers': 3}. Best is trial 14 with value: 0.0038003503694199027.\n",
      "[I 2025-03-06 17:43:10,536] Trial 23 finished with value: 0.004623130067355103 and parameters: {'learning_rate': 0.0007268489166435313, 'hidden_size': 64, 'dropout_rate': 0.3, 'seq_length': 96, 'batch_size': 32, 'epochs': 40, 'num_layers': 3}. Best is trial 14 with value: 0.0038003503694199027.\n",
      "[I 2025-03-06 17:43:25,255] Trial 24 finished with value: 0.004534987305911879 and parameters: {'learning_rate': 0.0011871723319243604, 'hidden_size': 64, 'dropout_rate': 0.3, 'seq_length': 96, 'batch_size': 32, 'epochs': 40, 'num_layers': 3}. Best is trial 14 with value: 0.0038003503694199027.\n",
      "[I 2025-03-06 17:43:43,114] Trial 25 finished with value: 0.004042932251468301 and parameters: {'learning_rate': 0.0028995167885584733, 'hidden_size': 64, 'dropout_rate': 0.3, 'seq_length': 24, 'batch_size': 32, 'epochs': 50, 'num_layers': 3}. Best is trial 14 with value: 0.0038003503694199027.\n",
      "[I 2025-03-06 17:43:46,951] Trial 26 finished with value: 0.004668953269720078 and parameters: {'learning_rate': 0.0014577622189413215, 'hidden_size': 64, 'dropout_rate': 0.3, 'seq_length': 48, 'batch_size': 64, 'epochs': 20, 'num_layers': 3}. Best is trial 14 with value: 0.0038003503694199027.\n",
      "[I 2025-03-06 17:43:57,981] Trial 27 finished with value: 0.004302589909026497 and parameters: {'learning_rate': 0.00323076356911434, 'hidden_size': 64, 'dropout_rate': 0.3, 'seq_length': 72, 'batch_size': 32, 'epochs': 30, 'num_layers': 3}. Best is trial 14 with value: 0.0038003503694199027.\n",
      "[I 2025-03-06 17:44:14,671] Trial 28 finished with value: 0.004769881773326132 and parameters: {'learning_rate': 0.0004170385874896828, 'hidden_size': 64, 'dropout_rate': 0.2, 'seq_length': 96, 'batch_size': 32, 'epochs': 40, 'num_layers': 4}. Best is trial 14 with value: 0.0038003503694199027.\n",
      "[I 2025-03-06 17:44:33,825] Trial 29 finished with value: 0.0052355134135319125 and parameters: {'learning_rate': 0.0009031351173108549, 'hidden_size': 128, 'dropout_rate': 0.5, 'seq_length': 96, 'batch_size': 64, 'epochs': 50, 'num_layers': 5}. Best is trial 14 with value: 0.0038003503694199027.\n",
      "[I 2025-03-06 17:44:38,891] Trial 30 finished with value: 0.04493450000882149 and parameters: {'learning_rate': 0.0017371729072067391, 'hidden_size': 32, 'dropout_rate': 0.5, 'seq_length': 24, 'batch_size': 128, 'epochs': 50, 'num_layers': 3}. Best is trial 14 with value: 0.0038003503694199027.\n",
      "[I 2025-03-06 17:44:56,718] Trial 31 finished with value: 0.003730172122595832 and parameters: {'learning_rate': 0.002986451455162132, 'hidden_size': 64, 'dropout_rate': 0.3, 'seq_length': 24, 'batch_size': 32, 'epochs': 50, 'num_layers': 3}. Best is trial 31 with value: 0.003730172122595832.\n",
      "[I 2025-03-06 17:45:14,546] Trial 32 finished with value: 0.004024637688416988 and parameters: {'learning_rate': 0.006743524506813614, 'hidden_size': 64, 'dropout_rate': 0.3, 'seq_length': 24, 'batch_size': 32, 'epochs': 50, 'num_layers': 3}. Best is trial 31 with value: 0.003730172122595832.\n",
      "[I 2025-03-06 17:45:32,360] Trial 33 finished with value: 0.045112911984324454 and parameters: {'learning_rate': 0.00881577660498279, 'hidden_size': 64, 'dropout_rate': 0.3, 'seq_length': 24, 'batch_size': 32, 'epochs': 50, 'num_layers': 3}. Best is trial 31 with value: 0.003730172122595832.\n",
      "[I 2025-03-06 17:45:52,533] Trial 34 finished with value: 0.007498150272294879 and parameters: {'learning_rate': 0.00590493501094752, 'hidden_size': 64, 'dropout_rate': 0.3, 'seq_length': 24, 'batch_size': 32, 'epochs': 50, 'num_layers': 4}. Best is trial 31 with value: 0.003730172122595832.\n",
      "[I 2025-03-06 17:46:10,315] Trial 35 finished with value: 0.04503494296222925 and parameters: {'learning_rate': 0.007435251998755275, 'hidden_size': 32, 'dropout_rate': 0.3, 'seq_length': 24, 'batch_size': 32, 'epochs': 50, 'num_layers': 3}. Best is trial 31 with value: 0.003730172122595832.\n",
      "[I 2025-03-06 17:46:28,214] Trial 36 finished with value: 0.003663803299423307 and parameters: {'learning_rate': 0.004831775167702947, 'hidden_size': 64, 'dropout_rate': 0.2, 'seq_length': 24, 'batch_size': 32, 'epochs': 50, 'num_layers': 3}. Best is trial 36 with value: 0.003663803299423307.\n",
      "[I 2025-03-06 17:46:36,503] Trial 37 finished with value: 0.04497924139723182 and parameters: {'learning_rate': 0.004080684475636265, 'hidden_size': 128, 'dropout_rate': 0.2, 'seq_length': 24, 'batch_size': 32, 'epochs': 20, 'num_layers': 4}. Best is trial 36 with value: 0.003663803299423307.\n",
      "[I 2025-03-06 17:46:59,029] Trial 38 finished with value: 0.04500370398163796 and parameters: {'learning_rate': 0.0050306380374325775, 'hidden_size': 32, 'dropout_rate': 0.2, 'seq_length': 24, 'batch_size': 32, 'epochs': 50, 'num_layers': 5}. Best is trial 36 with value: 0.003663803299423307.\n",
      "[I 2025-03-06 17:47:04,395] Trial 39 finished with value: 0.004306999128311872 and parameters: {'learning_rate': 0.003490159871983828, 'hidden_size': 64, 'dropout_rate': 0.2, 'seq_length': 72, 'batch_size': 128, 'epochs': 50, 'num_layers': 3}. Best is trial 36 with value: 0.003663803299423307.\n"
     ]
    },
    {
     "name": "stdout",
     "output_type": "stream",
     "text": [
      "Best hyperparameters: {'learning_rate': 0.004831775167702947, 'hidden_size': 64, 'dropout_rate': 0.2, 'seq_length': 24, 'batch_size': 32, 'epochs': 50, 'num_layers': 3}\n",
      "Best test loss: 0.003663803299423307\n"
     ]
    }
   ],
   "source": [
    "study = optuna.create_study(direction='minimize')\n",
    "study.optimize(objective, n_trials=40)\n",
    "\n",
    "# Print best hyperparameters and results\n",
    "print(\"Best hyperparameters:\", study.best_params)\n",
    "print(\"Best test loss:\", study.best_value)"
   ]
  },
  {
   "cell_type": "markdown",
   "metadata": {},
   "source": [
    "<span style='color:green'>\n",
    "\n",
    "### **Results Summary:**\n",
    "\n",
    "| **Trial** | **Learning Rate** | **Hidden Size** | **Dropout Rate** | **Seq Length** | **Batch Size** | **Num Layers** | **Test Loss** |\n",
    "|-----------|-------------------|-----------------|------------------|----------------|----------------|-----------------|---------------------|\n",
    "| 0         | 0.0051            | 32              | 0.5              | 96             | 128            | 3               | 0.04487              |\n",
    "| 2         | 0.0006            | 32              | 0.3              | 72             | 32             | 4               | 0.00547              |\n",
    "| 7         | 0.0021            | 64              | 0.3              | 96             | 32             | 3               | 0.00406              |\n",
    "| 10        | 0.0014            | 64              | 0.3              | 96             | 64             | 3               | 0.00404              |\n",
    "| 14        | 0.0020            | 64              | 0.3              | 24             | 32             | 3               | 0.00380              |\n",
    "| **36**    | **0.0048**        | **64**          | **0.2**          | **24**         | **32**         | **3**           | **0.00366**         |\n",
    "\n",
    "\n",
    "### **Best Hyperparameter Combination:**\n",
    "\n",
    "- **Learning Rate:** 0.0048  \n",
    "- **Hidden Size:** 64  \n",
    "- **Dropout Rate:** 0.2  \n",
    "- **Seq Length:** 24  \n",
    "- **Batch Size:** 32  \n",
    "- **Num Layers:** 3  \n",
    "- **Test Loss:** 0.00366  \n",
    "\n",
    "This combination yielded the **lowest test loss**, indicating a well-regularized model with a balance between learning capacity and generalization.\n",
    "\n",
    "</span>"
   ]
  },
  {
   "cell_type": "markdown",
   "metadata": {},
   "source": [
    "## Early Stopping"
   ]
  },
  {
   "cell_type": "code",
   "execution_count": 74,
   "metadata": {},
   "outputs": [],
   "source": [
    "seq_length = study.best_params['seq_length']\n",
    "batch_size = study.best_params['batch_size']\n",
    "hidden_size = study.best_params['hidden_size']\n",
    "num_layers = study.best_params['num_layers']\n",
    "dropout_rate = study.best_params['dropout_rate']\n",
    "learning_rate = study.best_params['learning_rate']\n",
    "\n",
    "X_train, y_train = create_sequences(train_data, seq_length)\n",
    "X_val, y_val = create_sequences(val_data, seq_length)\n",
    "X_test, y_test = create_sequences(test_data, seq_length)\n",
    "\n",
    "X_train_tensor = torch.tensor(X_train, dtype=torch.float32).unsqueeze(-1)\n",
    "y_train_tensor = torch.tensor(y_train, dtype=torch.float32)\n",
    "X_val_tensor = torch.tensor(X_val, dtype=torch.float32).unsqueeze(-1)\n",
    "y_val_tensor = torch.tensor(y_val, dtype=torch.float32)\n",
    "X_test_tensor = torch.tensor(X_test, dtype=torch.float32).unsqueeze(-1)\n",
    "y_test_tensor = torch.tensor(y_test, dtype=torch.float32)\n",
    "\n",
    "train_dataset = TensorDataset(X_train_tensor, y_train_tensor)\n",
    "val_dataset = TensorDataset(X_val_tensor, y_val_tensor)\n",
    "test_dataset = TensorDataset(X_test_tensor, y_test_tensor)\n",
    "\n",
    "train_loader = DataLoader(train_dataset, batch_size=batch_size, shuffle=False)\n",
    "val_loader = DataLoader(val_dataset, batch_size=batch_size, shuffle=False)\n",
    "test_loader = DataLoader(test_dataset, batch_size=batch_size, shuffle=False)"
   ]
  },
  {
   "cell_type": "code",
   "execution_count": 75,
   "metadata": {},
   "outputs": [],
   "source": [
    "model = EnhancedLSTMModel(hidden_size=hidden_size, num_layers=num_layers, dropout_rate=dropout_rate).to(device)\n",
    "optimizer = optim.Adam(model.parameters(), lr=learning_rate)\n",
    "loss_function = torch.nn.MSELoss()\n",
    "scheduler = optim.lr_scheduler.ReduceLROnPlateau(optimizer, 'min', patience=3, factor=0.1)"
   ]
  },
  {
   "cell_type": "code",
   "execution_count": 76,
   "metadata": {},
   "outputs": [
    {
     "name": "stdout",
     "output_type": "stream",
     "text": [
      "Epoch [1/100], Train Loss: 0.0811, Train MAE: 124.9825, Train RMSE: 154.6786, Train R2: -0.3651, Validation Loss: 0.0511, Validation MAE: 96.3453, Validation RMSE: 122.7013, Validation R2: -0.0220\n",
      "Epoch [2/100], Train Loss: 0.0677, Train MAE: 117.0424, Train RMSE: 141.2644, Train R2: -0.1386, Validation Loss: 0.0501, Validation MAE: 99.5843, Validation RMSE: 121.3958, Validation R2: -0.0004\n",
      "Epoch [3/100], Train Loss: 0.0665, Train MAE: 116.5871, Train RMSE: 140.0831, Train R2: -0.1196, Validation Loss: 0.0501, Validation MAE: 99.5078, Validation RMSE: 121.4031, Validation R2: -0.0005\n",
      "Epoch [4/100], Train Loss: 0.0657, Train MAE: 115.9305, Train RMSE: 139.2195, Train R2: -0.1059, Validation Loss: 0.0502, Validation MAE: 101.8317, Validation RMSE: 121.4869, Validation R2: -0.0019\n",
      "Epoch [5/100], Train Loss: 0.0565, Train MAE: 105.7809, Train RMSE: 129.1149, Train R2: 0.0488, Validation Loss: 0.0316, Validation MAE: 69.8050, Validation RMSE: 96.4361, Validation R2: 0.3687\n",
      "Epoch [6/100], Train Loss: 0.0392, Train MAE: 83.5414, Train RMSE: 107.4880, Train R2: 0.3408, Validation Loss: 0.0327, Validation MAE: 70.6021, Validation RMSE: 98.1037, Validation R2: 0.3467\n",
      "Epoch [7/100], Train Loss: 0.0382, Train MAE: 82.0151, Train RMSE: 106.1247, Train R2: 0.3574, Validation Loss: 0.0283, Validation MAE: 66.7626, Validation RMSE: 91.1598, Validation R2: 0.4359\n",
      "Epoch [8/100], Train Loss: 0.0352, Train MAE: 78.8283, Train RMSE: 101.9046, Train R2: 0.4075, Validation Loss: 0.0275, Validation MAE: 67.9842, Validation RMSE: 89.9052, Validation R2: 0.4513\n",
      "Epoch [9/100], Train Loss: 0.0401, Train MAE: 88.4526, Train RMSE: 108.7710, Train R2: 0.3250, Validation Loss: 0.0533, Validation MAE: 94.9287, Validation RMSE: 125.3171, Validation R2: -0.0661\n",
      "Epoch [10/100], Train Loss: 0.0319, Train MAE: 75.6303, Train RMSE: 97.0634, Train R2: 0.4625, Validation Loss: 0.0083, Validation MAE: 40.1189, Validation RMSE: 49.2875, Validation R2: 0.8351\n",
      "Epoch [11/100], Train Loss: 0.0132, Train MAE: 49.1712, Train RMSE: 62.4640, Train R2: 0.7774, Validation Loss: 0.0064, Validation MAE: 34.6622, Validation RMSE: 43.1741, Validation R2: 0.8735\n",
      "Epoch [12/100], Train Loss: 0.0116, Train MAE: 45.6132, Train RMSE: 58.3741, Train R2: 0.8056, Validation Loss: 0.0081, Validation MAE: 39.2936, Validation RMSE: 48.8805, Validation R2: 0.8378\n",
      "Epoch [13/100], Train Loss: 0.0098, Train MAE: 41.8884, Train RMSE: 53.8948, Train R2: 0.8343, Validation Loss: 0.0053, Validation MAE: 31.5188, Validation RMSE: 39.4262, Validation R2: 0.8945\n",
      "Epoch [14/100], Train Loss: 0.0098, Train MAE: 42.0864, Train RMSE: 53.7148, Train R2: 0.8354, Validation Loss: 0.0075, Validation MAE: 37.1794, Validation RMSE: 46.9138, Validation R2: 0.8506\n",
      "Epoch [15/100], Train Loss: 0.0088, Train MAE: 39.6292, Train RMSE: 51.0440, Train R2: 0.8513, Validation Loss: 0.0061, Validation MAE: 33.6747, Validation RMSE: 42.5784, Validation R2: 0.8769\n",
      "Epoch [16/100], Train Loss: 0.0086, Train MAE: 39.1441, Train RMSE: 50.2941, Train R2: 0.8557, Validation Loss: 0.0066, Validation MAE: 34.9682, Validation RMSE: 44.2146, Validation R2: 0.8673\n",
      "Epoch [17/100], Train Loss: 0.0085, Train MAE: 39.2704, Train RMSE: 50.2302, Train R2: 0.8560, Validation Loss: 0.0065, Validation MAE: 34.7902, Validation RMSE: 43.6623, Validation R2: 0.8706\n",
      "Epoch [18/100], Train Loss: 0.0078, Train MAE: 37.3319, Train RMSE: 48.0276, Train R2: 0.8684, Validation Loss: 0.0042, Validation MAE: 28.0744, Validation RMSE: 34.9576, Validation R2: 0.9170\n",
      "Epoch [19/100], Train Loss: 0.0072, Train MAE: 35.7971, Train RMSE: 46.2040, Train R2: 0.8782, Validation Loss: 0.0040, Validation MAE: 27.6017, Validation RMSE: 34.4835, Validation R2: 0.9193\n",
      "Epoch [20/100], Train Loss: 0.0071, Train MAE: 35.5096, Train RMSE: 45.5804, Train R2: 0.8815, Validation Loss: 0.0040, Validation MAE: 27.4548, Validation RMSE: 34.3671, Validation R2: 0.9198\n",
      "Epoch [21/100], Train Loss: 0.0070, Train MAE: 35.4497, Train RMSE: 45.4996, Train R2: 0.8819, Validation Loss: 0.0041, Validation MAE: 27.6251, Validation RMSE: 34.5524, Validation R2: 0.9190\n",
      "Epoch [22/100], Train Loss: 0.0070, Train MAE: 35.2404, Train RMSE: 45.2755, Train R2: 0.8830, Validation Loss: 0.0039, Validation MAE: 27.2728, Validation RMSE: 34.0337, Validation R2: 0.9214\n",
      "Epoch [23/100], Train Loss: 0.0069, Train MAE: 34.8766, Train RMSE: 45.1140, Train R2: 0.8839, Validation Loss: 0.0041, Validation MAE: 27.6504, Validation RMSE: 34.5985, Validation R2: 0.9187\n",
      "Epoch [24/100], Train Loss: 0.0068, Train MAE: 34.3507, Train RMSE: 44.6901, Train R2: 0.8860, Validation Loss: 0.0040, Validation MAE: 27.2037, Validation RMSE: 34.1488, Validation R2: 0.9208\n",
      "Epoch [25/100], Train Loss: 0.0068, Train MAE: 34.5664, Train RMSE: 44.7149, Train R2: 0.8859, Validation Loss: 0.0040, Validation MAE: 27.3249, Validation RMSE: 34.3034, Validation R2: 0.9201\n",
      "Epoch [26/100], Train Loss: 0.0069, Train MAE: 35.0465, Train RMSE: 45.1406, Train R2: 0.8837, Validation Loss: 0.0039, Validation MAE: 27.0641, Validation RMSE: 33.7929, Validation R2: 0.9225\n",
      "Epoch [27/100], Train Loss: 0.0066, Train MAE: 34.1127, Train RMSE: 44.2679, Train R2: 0.8882, Validation Loss: 0.0039, Validation MAE: 27.0157, Validation RMSE: 34.0288, Validation R2: 0.9214\n",
      "Epoch [28/100], Train Loss: 0.0066, Train MAE: 34.0392, Train RMSE: 44.1938, Train R2: 0.8886, Validation Loss: 0.0038, Validation MAE: 26.7565, Validation RMSE: 33.5929, Validation R2: 0.9234\n",
      "Epoch [29/100], Train Loss: 0.0066, Train MAE: 34.1037, Train RMSE: 44.2582, Train R2: 0.8882, Validation Loss: 0.0039, Validation MAE: 27.0531, Validation RMSE: 34.0411, Validation R2: 0.9213\n",
      "Epoch [30/100], Train Loss: 0.0066, Train MAE: 34.2454, Train RMSE: 44.1954, Train R2: 0.8886, Validation Loss: 0.0039, Validation MAE: 26.8233, Validation RMSE: 33.9247, Validation R2: 0.9219\n",
      "Epoch [31/100], Train Loss: 0.0067, Train MAE: 34.6040, Train RMSE: 44.4367, Train R2: 0.8873, Validation Loss: 0.0038, Validation MAE: 26.4714, Validation RMSE: 33.4898, Validation R2: 0.9239\n",
      "Epoch [32/100], Train Loss: 0.0065, Train MAE: 33.8896, Train RMSE: 43.6539, Train R2: 0.8913, Validation Loss: 0.0038, Validation MAE: 26.4447, Validation RMSE: 33.2641, Validation R2: 0.9249\n",
      "Epoch [33/100], Train Loss: 0.0066, Train MAE: 34.2093, Train RMSE: 44.0728, Train R2: 0.8892, Validation Loss: 0.0038, Validation MAE: 26.7571, Validation RMSE: 33.6544, Validation R2: 0.9231\n",
      "Epoch [34/100], Train Loss: 0.0062, Train MAE: 33.0519, Train RMSE: 42.8828, Train R2: 0.8951, Validation Loss: 0.0037, Validation MAE: 26.1998, Validation RMSE: 33.0048, Validation R2: 0.9261\n",
      "Epoch [35/100], Train Loss: 0.0064, Train MAE: 33.5158, Train RMSE: 43.4660, Train R2: 0.8922, Validation Loss: 0.0037, Validation MAE: 25.9687, Validation RMSE: 32.8651, Validation R2: 0.9267\n",
      "Epoch [36/100], Train Loss: 0.0065, Train MAE: 33.8150, Train RMSE: 43.8866, Train R2: 0.8901, Validation Loss: 0.0036, Validation MAE: 26.0203, Validation RMSE: 32.7098, Validation R2: 0.9274\n",
      "Epoch [37/100], Train Loss: 0.0063, Train MAE: 33.3966, Train RMSE: 42.9292, Train R2: 0.8949, Validation Loss: 0.0038, Validation MAE: 26.2674, Validation RMSE: 33.4699, Validation R2: 0.9240\n",
      "Epoch [38/100], Train Loss: 0.0062, Train MAE: 33.1640, Train RMSE: 42.8735, Train R2: 0.8951, Validation Loss: 0.0036, Validation MAE: 25.6566, Validation RMSE: 32.6739, Validation R2: 0.9275\n",
      "Epoch [39/100], Train Loss: 0.0061, Train MAE: 32.7500, Train RMSE: 42.3078, Train R2: 0.8979, Validation Loss: 0.0036, Validation MAE: 25.6498, Validation RMSE: 32.6642, Validation R2: 0.9276\n",
      "Epoch [40/100], Train Loss: 0.0060, Train MAE: 32.8758, Train RMSE: 42.1588, Train R2: 0.8986, Validation Loss: 0.0036, Validation MAE: 25.8735, Validation RMSE: 32.7847, Validation R2: 0.9270\n",
      "Epoch [41/100], Train Loss: 0.0059, Train MAE: 32.0903, Train RMSE: 41.6320, Train R2: 0.9011, Validation Loss: 0.0035, Validation MAE: 25.5546, Validation RMSE: 32.3468, Validation R2: 0.9290\n",
      "Epoch [42/100], Train Loss: 0.0060, Train MAE: 32.4773, Train RMSE: 42.0165, Train R2: 0.8993, Validation Loss: 0.0037, Validation MAE: 25.8247, Validation RMSE: 33.0250, Validation R2: 0.9260\n",
      "Epoch [43/100], Train Loss: 0.0059, Train MAE: 32.6715, Train RMSE: 41.8590, Train R2: 0.9000, Validation Loss: 0.0035, Validation MAE: 25.6610, Validation RMSE: 32.3488, Validation R2: 0.9290\n",
      "Epoch [44/100], Train Loss: 0.0060, Train MAE: 32.5309, Train RMSE: 42.0496, Train R2: 0.8991, Validation Loss: 0.0035, Validation MAE: 25.2975, Validation RMSE: 32.0276, Validation R2: 0.9304\n",
      "Epoch [45/100], Train Loss: 0.0060, Train MAE: 32.5699, Train RMSE: 42.0278, Train R2: 0.8992, Validation Loss: 0.0036, Validation MAE: 25.2726, Validation RMSE: 32.4190, Validation R2: 0.9287\n",
      "Epoch [46/100], Train Loss: 0.0060, Train MAE: 32.3752, Train RMSE: 41.9352, Train R2: 0.8997, Validation Loss: 0.0034, Validation MAE: 24.9060, Validation RMSE: 31.8082, Validation R2: 0.9313\n",
      "Epoch [47/100], Train Loss: 0.0056, Train MAE: 31.4446, Train RMSE: 40.7269, Train R2: 0.9054, Validation Loss: 0.0034, Validation MAE: 24.7268, Validation RMSE: 31.6946, Validation R2: 0.9318\n",
      "Epoch [48/100], Train Loss: 0.0056, Train MAE: 31.3057, Train RMSE: 40.6370, Train R2: 0.9058, Validation Loss: 0.0034, Validation MAE: 24.9182, Validation RMSE: 31.7755, Validation R2: 0.9315\n",
      "Epoch [49/100], Train Loss: 0.0056, Train MAE: 31.7558, Train RMSE: 40.5468, Train R2: 0.9062, Validation Loss: 0.0034, Validation MAE: 24.7855, Validation RMSE: 31.6817, Validation R2: 0.9319\n",
      "Epoch [50/100], Train Loss: 0.0058, Train MAE: 31.8676, Train RMSE: 41.3290, Train R2: 0.9025, Validation Loss: 0.0033, Validation MAE: 24.4468, Validation RMSE: 31.3495, Validation R2: 0.9333\n",
      "Epoch [51/100], Train Loss: 0.0056, Train MAE: 31.6093, Train RMSE: 40.4349, Train R2: 0.9067, Validation Loss: 0.0033, Validation MAE: 24.1191, Validation RMSE: 31.0249, Validation R2: 0.9347\n",
      "Epoch [52/100], Train Loss: 0.0058, Train MAE: 31.8876, Train RMSE: 41.1768, Train R2: 0.9033, Validation Loss: 0.0033, Validation MAE: 24.3320, Validation RMSE: 31.2378, Validation R2: 0.9338\n",
      "Epoch [53/100], Train Loss: 0.0055, Train MAE: 31.0944, Train RMSE: 40.2163, Train R2: 0.9077, Validation Loss: 0.0032, Validation MAE: 24.2425, Validation RMSE: 30.9383, Validation R2: 0.9350\n",
      "Epoch [54/100], Train Loss: 0.0057, Train MAE: 31.5502, Train RMSE: 40.9552, Train R2: 0.9043, Validation Loss: 0.0033, Validation MAE: 24.4572, Validation RMSE: 31.0954, Validation R2: 0.9344\n",
      "Epoch [55/100], Train Loss: 0.0054, Train MAE: 30.9110, Train RMSE: 39.8228, Train R2: 0.9095, Validation Loss: 0.0033, Validation MAE: 24.6380, Validation RMSE: 31.2501, Validation R2: 0.9337\n",
      "Epoch [56/100], Train Loss: 0.0055, Train MAE: 31.2946, Train RMSE: 40.1440, Train R2: 0.9081, Validation Loss: 0.0032, Validation MAE: 24.0129, Validation RMSE: 30.9241, Validation R2: 0.9351\n",
      "Epoch [57/100], Train Loss: 0.0053, Train MAE: 30.7828, Train RMSE: 39.6121, Train R2: 0.9105, Validation Loss: 0.0031, Validation MAE: 23.7121, Validation RMSE: 30.3451, Validation R2: 0.9375\n",
      "Epoch [58/100], Train Loss: 0.0054, Train MAE: 30.7228, Train RMSE: 39.8168, Train R2: 0.9095, Validation Loss: 0.0030, Validation MAE: 23.3889, Validation RMSE: 29.9440, Validation R2: 0.9391\n",
      "Epoch [59/100], Train Loss: 0.0051, Train MAE: 30.0579, Train RMSE: 38.8319, Train R2: 0.9140, Validation Loss: 0.0031, Validation MAE: 23.6531, Validation RMSE: 30.1403, Validation R2: 0.9383\n",
      "Epoch [60/100], Train Loss: 0.0052, Train MAE: 30.2649, Train RMSE: 39.2953, Train R2: 0.9119, Validation Loss: 0.0031, Validation MAE: 23.2392, Validation RMSE: 30.1835, Validation R2: 0.9382\n",
      "Epoch [61/100], Train Loss: 0.0050, Train MAE: 29.8993, Train RMSE: 38.4663, Train R2: 0.9156, Validation Loss: 0.0030, Validation MAE: 23.0214, Validation RMSE: 29.6008, Validation R2: 0.9405\n",
      "Epoch [62/100], Train Loss: 0.0050, Train MAE: 29.6729, Train RMSE: 38.4174, Train R2: 0.9158, Validation Loss: 0.0031, Validation MAE: 23.1293, Validation RMSE: 30.0120, Validation R2: 0.9389\n",
      "Epoch [63/100], Train Loss: 0.0052, Train MAE: 30.1363, Train RMSE: 39.0564, Train R2: 0.9130, Validation Loss: 0.0030, Validation MAE: 22.8755, Validation RMSE: 29.7626, Validation R2: 0.9399\n",
      "Epoch [64/100], Train Loss: 0.0051, Train MAE: 30.0137, Train RMSE: 38.7636, Train R2: 0.9143, Validation Loss: 0.0031, Validation MAE: 22.9844, Validation RMSE: 30.0841, Validation R2: 0.9386\n",
      "Epoch [65/100], Train Loss: 0.0051, Train MAE: 30.0010, Train RMSE: 38.7087, Train R2: 0.9145, Validation Loss: 0.0030, Validation MAE: 22.9141, Validation RMSE: 29.6374, Validation R2: 0.9404\n",
      "Epoch [66/100], Train Loss: 0.0049, Train MAE: 29.4430, Train RMSE: 37.9222, Train R2: 0.9179, Validation Loss: 0.0030, Validation MAE: 22.9539, Validation RMSE: 29.6560, Validation R2: 0.9403\n",
      "Epoch [67/100], Train Loss: 0.0046, Train MAE: 28.3955, Train RMSE: 36.8414, Train R2: 0.9226, Validation Loss: 0.0030, Validation MAE: 22.9628, Validation RMSE: 29.7131, Validation R2: 0.9401\n",
      "Epoch [68/100], Train Loss: 0.0049, Train MAE: 29.0511, Train RMSE: 37.9964, Train R2: 0.9176, Validation Loss: 0.0030, Validation MAE: 23.0221, Validation RMSE: 29.8071, Validation R2: 0.9397\n",
      "Epoch [69/100], Train Loss: 0.0048, Train MAE: 28.9612, Train RMSE: 37.5846, Train R2: 0.9194, Validation Loss: 0.0030, Validation MAE: 22.9561, Validation RMSE: 29.6941, Validation R2: 0.9401\n",
      "Epoch [70/100], Train Loss: 0.0048, Train MAE: 28.7397, Train RMSE: 37.5214, Train R2: 0.9197, Validation Loss: 0.0030, Validation MAE: 22.9600, Validation RMSE: 29.6850, Validation R2: 0.9402\n",
      "Early stopping at epoch 71 due to no improvement in validation loss for 10 epochs.\n",
      "Training completed in: 29.25 seconds.\n"
     ]
    }
   ],
   "source": [
    "train_losses = []\n",
    "val_losses = []\n",
    "train_mae = []  \n",
    "val_mae = []    \n",
    "train_rmse = [] \n",
    "val_rmse = []   \n",
    "train_r2 = []   \n",
    "val_r2 = [] \n",
    "\n",
    "patience = 10\n",
    "best_val_loss = float('inf')\n",
    "wait = 0\n",
    "\n",
    "log_dir = os.path.join(\"early_stop_runs\", datetime.now().strftime(\"%Y%m%d-%H%M%S\"))\n",
    "writer = SummaryWriter(log_dir)\n",
    "\n",
    "device = torch.device(\"cuda\" if torch.cuda.is_available() else \"cpu\")\n",
    "model = model.to(device)\n",
    "\n",
    "epochs = 100\n",
    "start = time.time()\n",
    "for epoch in range(epochs):\n",
    "    model.train()\n",
    "    train_loss = 0\n",
    "    train_absolute_error = 0.0\n",
    "    train_squared_error = 0.0\n",
    "    train_predictions = []  \n",
    "    train_actuals = []   \n",
    "    for X_batch, y_batch in train_loader:\n",
    "        X_batch, y_batch = X_batch.to(device), y_batch.to(device)\n",
    "        optimizer.zero_grad()\n",
    "        outputs = model(X_batch)\n",
    "        loss = loss_function(outputs.squeeze(), y_batch)\n",
    "        loss.backward()\n",
    "        optimizer.step()\n",
    "        train_loss += loss.item()\n",
    "        \n",
    "        outputs_denorm = scaler.inverse_transform(outputs.cpu().detach().numpy().reshape(-1, 1))\n",
    "        y_batch_denorm = scaler.inverse_transform(y_batch.cpu().detach().numpy().reshape(-1, 1))\n",
    "        \n",
    "        train_predictions.extend(outputs_denorm.flatten())\n",
    "        train_actuals.extend(y_batch_denorm.flatten())\n",
    "        \n",
    "        train_absolute_error += np.sum(np.abs(outputs_denorm - y_batch_denorm))\n",
    "        train_squared_error += np.sum((outputs_denorm - y_batch_denorm) ** 2)\n",
    "    \n",
    "    train_r2_epoch = r2_score(train_actuals, train_predictions)\n",
    "    train_r2.append(train_r2_epoch)\n",
    "    train_mae_epoch = train_absolute_error / len(train_loader.dataset)\n",
    "    train_rmse_epoch = (train_squared_error / len(train_loader.dataset)) ** 0.5\n",
    "    train_mae.append(train_mae_epoch)\n",
    "    train_rmse.append(train_rmse_epoch)\n",
    "    train_loss /= len(train_loader)\n",
    "    train_losses.append(train_loss)\n",
    "\n",
    "    # Validation\n",
    "    model.eval()\n",
    "    val_loss = 0\n",
    "    val_absolute_error = 0.0\n",
    "    val_squared_error = 0.0\n",
    "    val_predictions = []  \n",
    "    val_actuals = []    \n",
    "    with torch.no_grad():\n",
    "        for X_val_batch, y_val_batch in val_loader:\n",
    "            X_val_batch, y_val_batch = X_val_batch.to(device), y_val_batch.to(device)\n",
    "            val_outputs = model(X_val_batch)\n",
    "            val_loss += loss_function(val_outputs.squeeze(), y_val_batch).item()\n",
    "            \n",
    "            val_outputs_denorm = scaler.inverse_transform(val_outputs.cpu().detach().numpy().reshape(-1, 1))\n",
    "            y_val_batch_denorm = scaler.inverse_transform(y_val_batch.cpu().detach().numpy().reshape(-1, 1))\n",
    "            \n",
    "            val_predictions.extend(val_outputs_denorm.flatten())\n",
    "            val_actuals.extend(y_val_batch_denorm.flatten())\n",
    "            val_absolute_error += np.sum(np.abs(val_outputs_denorm - y_val_batch_denorm))\n",
    "            val_squared_error += np.sum((val_outputs_denorm - y_val_batch_denorm) ** 2)\n",
    "    \n",
    "    val_r2_epoch = r2_score(val_actuals, val_predictions)\n",
    "    val_r2.append(val_r2_epoch)\n",
    "    val_mae_epoch = val_absolute_error / len(val_loader.dataset)\n",
    "    val_rmse_epoch = (val_squared_error / len(val_loader.dataset)) ** 0.5\n",
    "    val_mae.append(val_mae_epoch)\n",
    "    val_rmse.append(val_rmse_epoch)\n",
    "    val_loss /= len(val_loader)\n",
    "    val_losses.append(val_loss)\n",
    "    scheduler.step(val_loss)\n",
    "\n",
    "    if val_loss < best_val_loss:\n",
    "        best_val_loss = val_loss\n",
    "        wait = 0\n",
    "    else:\n",
    "        wait += 1\n",
    "        if wait >= patience:\n",
    "            print(f\"Early stopping at epoch {epoch + 1} due to no improvement in validation loss for {patience} epochs.\")\n",
    "            break\n",
    "    \n",
    "    # Log metrics to TensorBoard\n",
    "    writer.add_scalar('Loss/train', train_loss, epoch)\n",
    "    writer.add_scalar('Loss/validation', val_loss, epoch)\n",
    "    writer.add_scalar('MAE/train', train_mae_epoch, epoch)\n",
    "    writer.add_scalar('MAE/validation', val_mae_epoch, epoch)\n",
    "    writer.add_scalar('RMSE/train', train_rmse_epoch, epoch)\n",
    "    writer.add_scalar('RMSE/validation', val_rmse_epoch, epoch)\n",
    "    writer.add_scalar('R2/train', train_r2_epoch, epoch)        \n",
    "    writer.add_scalar('R2/validation', val_r2_epoch, epoch)  \n",
    "\n",
    "    print(f'Epoch [{epoch + 1}/{epochs}], Train Loss: {train_loss:.4f}, Train MAE: {train_mae_epoch:.4f}, Train RMSE: {train_rmse_epoch:.4f}, Train R2: {train_r2_epoch:.4f}, Validation Loss: {val_loss:.4f}, Validation MAE: {val_mae_epoch:.4f}, Validation RMSE: {val_rmse_epoch:.4f}, Validation R2: {val_r2_epoch:.4f}')\n",
    "\n",
    "end = time.time()\n",
    "train_time = end - start\n",
    "print(f\"Training completed in: {train_time:.2f} seconds.\")\n",
    "\n",
    "writer.close()\n"
   ]
  },
  {
   "cell_type": "code",
   "execution_count": 77,
   "metadata": {},
   "outputs": [],
   "source": [
    "writer = SummaryWriter('early_stop_runs/result')\n",
    "\n",
    "model.eval()\n",
    "total_loss = 0\n",
    "predictions = []\n",
    "actuals = []\n",
    "with torch.no_grad():\n",
    "    for X_batch, y_batch in test_loader:\n",
    "        X_batch, y_batch = X_batch.to(device), y_batch.to(device)\n",
    "        outputs = model(X_batch).squeeze()\n",
    "        loss = loss_function(outputs, y_batch)\n",
    "        total_loss += loss.item()\n",
    "        predictions.extend(outputs.cpu().numpy())\n",
    "        actuals.extend(y_batch.cpu().numpy())\n",
    "\n",
    "avg_loss = total_loss / len(test_loader)"
   ]
  },
  {
   "cell_type": "code",
   "execution_count": 78,
   "metadata": {},
   "outputs": [
    {
     "name": "stdout",
     "output_type": "stream",
     "text": [
      "\n",
      "Test Set Evaluation:\n",
      "Test Loss (MSE): 0.0038\n",
      "Test MAE: 26.0925\n",
      "Test RMSE: 33.4761\n",
      "Test R-squared: 0.9147\n"
     ]
    }
   ],
   "source": [
    "test_actuals = np.array(actuals).reshape(-1, 1)\n",
    "test_preds = np.array(predictions).reshape(-1, 1)\n",
    "\n",
    "test_actuals = scaler.inverse_transform(test_actuals)\n",
    "test_preds = scaler.inverse_transform(test_preds)\n",
    "\n",
    "test_loss = avg_loss\n",
    "mae = mean_absolute_error(test_actuals, test_preds)\n",
    "rmse = np.sqrt(mean_squared_error(test_actuals, test_preds))\n",
    "r2 = r2_score(test_actuals, test_preds)\n",
    "\n",
    "print(\"\\nTest Set Evaluation:\")\n",
    "print(f\"Test Loss (MSE): {test_loss:.4f}\")\n",
    "print(f\"Test MAE: {mae:.4f}\")\n",
    "print(f\"Test RMSE: {rmse:.4f}\")\n",
    "print(f\"Test R-squared: {r2:.4f}\")\n",
    "\n",
    "writer.add_scalar('Loss/test', test_loss)\n",
    "writer.add_scalar('MAE/test', mae)\n",
    "writer.add_scalar('RMSE/test', rmse)\n",
    "writer.add_scalar('R-squared/test', r2)\n",
    "\n",
    "writer.close()"
   ]
  },
  {
   "cell_type": "code",
   "execution_count": 79,
   "metadata": {},
   "outputs": [],
   "source": [
    "es_train_accuracies = train_r2\n",
    "es_val_accuracies = val_r2\n",
    "es_train_losses = train_losses\n",
    "es_val_losses = val_losses\n",
    "es_test_accuracy = r2\n",
    "es_test_loss = test_loss\n",
    "es_all_labels = test_actuals\n",
    "es_all_preds = test_preds\n",
    "es_model = model\n",
    "es_train_mae = train_mae\n",
    "es_val_mae = val_mae\n",
    "es_train_rmse = train_rmse\n",
    "es_val_rmse = val_rmse"
   ]
  },
  {
   "cell_type": "code",
   "execution_count": 80,
   "metadata": {},
   "outputs": [
    {
     "name": "stdout",
     "output_type": "stream",
     "text": [
      "Best model is 'Early Stopping Model' at epoch 61 with validation loss 0.0030 and train-validation gap 0.0020\n"
     ]
    }
   ],
   "source": [
    "model_name = ['Base Model', 'Enhanced Architecture Model', 'Early Stopping Model']\n",
    "\n",
    "val_losses_per_epoch = [base_val_losses, enhance_val_losses, es_val_losses]\n",
    "\n",
    "train_losses_per_epoch = [base_train_losses, enhance_train_losses, es_train_losses]\n",
    "\n",
    "models = [base_model, enhance_model, es_model]\n",
    "\n",
    "val_mae_per_epoch = [base_val_mae, enhance_val_mae, es_val_mae]\n",
    "\n",
    "train_mae_per_epoch = [base_train_mae, enhance_train_mae, es_train_mae]\n",
    "\n",
    "val_rmse_per_epoch = [base_val_rmse, enhance_val_rmse, es_val_rmse]\n",
    "\n",
    "train_rmse_per_epoch = [base_train_rmse, enhance_train_rmse, es_train_rmse]\n",
    "\n",
    "val_r2_per_epoch = [base_val_accuracies, enhance_val_accuracies, es_val_accuracies]\n",
    "\n",
    "train_r2_per_epoch = [base_train_accuracies, enhance_train_accuracies, es_train_accuracies]\n",
    "\n",
    "best_val_loss = float('inf')\n",
    "best_model_index = -1\n",
    "best_epoch = -1\n",
    "best_loss_gap = float('inf')\n",
    "\n",
    "for i, (val_losses, train_losses) in enumerate(zip(val_losses_per_epoch, train_losses_per_epoch)):\n",
    "    min_val_loss = min(val_losses)\n",
    "    min_val_loss_epoch = val_losses.index(min_val_loss)\n",
    "\n",
    "    train_loss_at_min_val = train_losses[min_val_loss_epoch]\n",
    "\n",
    "    loss_gap = abs(train_loss_at_min_val - min_val_loss)\n",
    "\n",
    "    # Select model based on:\n",
    "    # 1. Lowest validation loss\n",
    "    # 2. Smallest train-validation loss gap\n",
    "    if min_val_loss < best_val_loss or (min_val_loss == best_val_loss and loss_gap < best_loss_gap):\n",
    "        best_val_loss = min_val_loss\n",
    "        best_model_index = i\n",
    "        best_epoch = min_val_loss_epoch\n",
    "        best_loss_gap = loss_gap\n",
    "\n",
    "best_model = models[best_model_index]\n",
    "best_model_name = model_name[best_model_index]\n",
    "best_model_train_losses = train_losses_per_epoch[best_model_index]\n",
    "best_model_val_losses = val_losses_per_epoch[best_model_index]\n",
    "best_model_val_mae = val_mae_per_epoch[best_model_index]\n",
    "best_model_train_mae = train_mae_per_epoch[best_model_index]\n",
    "best_model_val_rmse = val_rmse_per_epoch[best_model_index]\n",
    "best_model_train_rmse = train_rmse_per_epoch[best_model_index]\n",
    "best_model_val_r2 = val_r2_per_epoch[best_model_index]\n",
    "best_model_train_r2 = train_r2_per_epoch[best_model_index]\n",
    "\n",
    "\n",
    "torch.save(best_model.state_dict(), 'a1_part_3_dsivaram_svelmuru.pt')\n",
    "\n",
    "print(f\"Best model is '{best_model_name}' at epoch {best_epoch + 1} with validation loss {best_val_loss:.4f} and train-validation gap {best_loss_gap:.4f}\")\n"
   ]
  },
  {
   "cell_type": "markdown",
   "metadata": {},
   "source": [
    "## Step 3: Evaluation and analysis"
   ]
  },
  {
   "cell_type": "code",
   "execution_count": 81,
   "metadata": {},
   "outputs": [],
   "source": [
    "writer = SummaryWriter('best_runs/result')\n",
    "\n",
    "# Model evaluation on test set\n",
    "best_model.eval()\n",
    "total_loss = 0\n",
    "predictions = []\n",
    "actuals = []\n",
    "with torch.no_grad():\n",
    "    for X_batch, y_batch in test_loader:\n",
    "        X_batch, y_batch = X_batch.to(device), y_batch.to(device)\n",
    "        outputs = best_model(X_batch).squeeze()\n",
    "        loss = loss_function(outputs, y_batch)\n",
    "        total_loss += loss.item()\n",
    "        predictions.extend(outputs.cpu().numpy())\n",
    "        actuals.extend(y_batch.cpu().numpy())\n",
    "\n",
    "avg_loss = total_loss / len(test_loader)"
   ]
  },
  {
   "cell_type": "code",
   "execution_count": 82,
   "metadata": {},
   "outputs": [
    {
     "name": "stdout",
     "output_type": "stream",
     "text": [
      "Training Loss (Last Epoch): 0.0049\n",
      "Training R-squared (Last Epoch): 0.9181\n",
      "Training MAE (Last Epoch): 29.2144\n",
      "Training RMSE (Last Epoch): 37.8857\n",
      "Validation Loss (Last Epoch): 0.0030\n",
      "Validation R-squared (Last Epoch): 0.9402\n",
      "Validation MAE (Last Epoch): 22.9627\n",
      "Validation RMSE (Last Epoch): 29.6849\n"
     ]
    }
   ],
   "source": [
    "print(f\"Training Loss (Last Epoch): {best_model_train_losses[-1]:.4f}\")\n",
    "print(f\"Training R-squared (Last Epoch): {best_model_train_r2[-1]:.4f}\")\n",
    "print(f\"Training MAE (Last Epoch): {best_model_train_mae[-1]:.4f}\")\n",
    "print(f\"Training RMSE (Last Epoch): {best_model_train_rmse[-1]:.4f}\")\n",
    "print(f\"Validation Loss (Last Epoch): {best_model_val_losses[-1]:.4f}\")\n",
    "print(f\"Validation R-squared (Last Epoch): {best_model_val_r2[-1]:.4f}\")\n",
    "print(f\"Validation MAE (Last Epoch): {best_model_val_mae[-1]:.4f}\")\n",
    "print(f\"Validation RMSE (Last Epoch): {best_model_val_rmse[-1]:.4f}\")"
   ]
  },
  {
   "cell_type": "code",
   "execution_count": 83,
   "metadata": {},
   "outputs": [
    {
     "name": "stdout",
     "output_type": "stream",
     "text": [
      "\n",
      "Test Set Evaluation:\n",
      "Test Loss (MSE): 0.0038\n",
      "Test MAE: 26.0925\n",
      "Test RMSE: 33.4761\n",
      "Test R-squared: 0.9147\n"
     ]
    }
   ],
   "source": [
    "test_actuals = np.array(actuals).reshape(-1, 1)\n",
    "test_preds = np.array(predictions).reshape(-1, 1)\n",
    "\n",
    "test_actuals = scaler.inverse_transform(test_actuals)\n",
    "test_preds = scaler.inverse_transform(test_preds)\n",
    "\n",
    "test_loss = avg_loss\n",
    "mae = mean_absolute_error(test_actuals, test_preds)\n",
    "rmse = np.sqrt(mean_squared_error(test_actuals, test_preds))\n",
    "r2 = r2_score(test_actuals, test_preds)\n",
    "\n",
    "print(\"\\nTest Set Evaluation:\")\n",
    "print(f\"Test Loss (MSE): {test_loss:.4f}\")\n",
    "print(f\"Test MAE: {mae:.4f}\")\n",
    "print(f\"Test RMSE: {rmse:.4f}\")\n",
    "print(f\"Test R-squared: {r2:.4f}\")\n",
    "\n",
    "writer.add_scalar('Loss/test', test_loss)\n",
    "writer.add_scalar('MAE/test', mae)\n",
    "writer.add_scalar('RMSE/test', rmse)\n",
    "writer.add_scalar('R-squared/test', r2)\n",
    "\n",
    "writer.close()"
   ]
  },
  {
   "cell_type": "code",
   "execution_count": 84,
   "metadata": {},
   "outputs": [
    {
     "data": {
      "image/png": "[encoded data removed]",
      "text/plain": [
       "<Figure size 720x360 with 1 Axes>"
      ]
     },
     "metadata": {
      "needs_background": "light"
     },
     "output_type": "display_data"
    }
   ],
   "source": [
    "plt.figure(figsize=(10, 5))\n",
    "plt.plot(best_model_train_r2, label='Train R2 Score')\n",
    "plt.plot(best_model_val_r2, label='Validation R2 Score')\n",
    "plt.title('Train vs. Validation R2 Score')\n",
    "plt.xlabel('Epochs')\n",
    "plt.ylabel('R2 Score')\n",
    "plt.legend()\n",
    "plt.grid()\n",
    "plt.show()"
   ]
  },
  {
   "cell_type": "markdown",
   "metadata": {},
   "source": [
    "<span style='color:green'>The graph indicates that the model achieves a strong and stable R2 score above 0.8 after the initial epochs, demonstrating effective learning and accurate predictions. The minimal gap between the training and validation curves suggests that the model generalizes well to unseen data without significant overfitting.</span>"
   ]
  },
  {
   "cell_type": "code",
   "execution_count": 85,
   "metadata": {},
   "outputs": [
    {
     "data": {
      "image/png": "[encoded data removed]",
      "text/plain": [
       "<Figure size 720x360 with 1 Axes>"
      ]
     },
     "metadata": {
      "needs_background": "light"
     },
     "output_type": "display_data"
    }
   ],
   "source": [
    "plt.figure(figsize=(10, 5))\n",
    "plt.plot(best_model_train_losses, label='Train Loss')\n",
    "plt.plot(best_model_val_losses, label='Validation Loss')\n",
    "plt.title('Train vs. Validation Loss')\n",
    "plt.xlabel('Epochs')\n",
    "plt.ylabel('Loss')\n",
    "plt.legend()\n",
    "plt.grid()\n",
    "plt.show()"
   ]
  },
  {
   "cell_type": "markdown",
   "metadata": {},
   "source": [
    "<span style='color:green'>The graph demonstrates that both training and validation losses decrease rapidly in the initial epochs and stabilize at low levels, indicating effective learning and accurate predictions. The close alignment between the two curves suggests that the model generalizes well to unseen data without significant overfitting. Additionally, the smooth and stable convergence of the loss curves reflects a well-optimized training process, ensuring reliable performance.</span>"
   ]
  },
  {
   "cell_type": "code",
   "execution_count": 86,
   "metadata": {},
   "outputs": [
    {
     "data": {
      "image/png": "[encoded data removed]",
      "text/plain": [
       "<Figure size 720x360 with 1 Axes>"
      ]
     },
     "metadata": {
      "needs_background": "light"
     },
     "output_type": "display_data"
    }
   ],
   "source": [
    "plt.figure(figsize=(10, 5))\n",
    "plt.plot(test_actuals[:100], label='Actual', marker='o')\n",
    "plt.plot(test_preds[:100], label='Predicted', marker='o')\n",
    "plt.title('Predicted vs Actual (Test Set)')\n",
    "plt.xlabel('Time Step')\n",
    "plt.ylabel('Trip Count (Normalized)')\n",
    "plt.legend()\n",
    "plt.grid()\n",
    "plt.show()"
   ]
  },
  {
   "cell_type": "markdown",
   "metadata": {},
   "source": [
    "<span style='color:green'>The graph indicates that the predicted values align closely with the actual values, demonstrating that the model has effectively learned the patterns and trends in the data. The consistency between the two curves suggests that the model's predictions are reliable and accurate. While there are a few points of slight deviation, the overall performance appears strong, reflecting the model's ability to generalize well to unseen data.</span>"
   ]
  },
  {
   "cell_type": "markdown",
   "metadata": {},
   "source": [
    "<span style='color:green'>\n",
    "\n",
    "### **Dataset Overview**\n",
    "- The dataset consists of **hourly trip data** including:\n",
    "  - `pickup_datetime`  \n",
    "  - `trip_duration`  \n",
    "  - `passenger_count`  \n",
    "  - `trip_count`  \n",
    "- **Time period:** January to June 2016.  \n",
    "- **Objective:** Forecast hourly `trip_count` using past data.\n",
    "\n",
    "### **Final LSTM Architecture**\n",
    "- **Model:** EnhancedLSTMModel (Stacked Bidirectional LSTM).  \n",
    "- **Layers:**\n",
    "  - **3 LSTM layers:** Bidirectional with a hidden size of **64** neurons.  \n",
    "  - **Dropout:** Applied after each LSTM layer and fully connected layer with a rate of **0.2** and in the LSTM layer with a rate of **0.3** to prevent overfitting.  \n",
    "  - **Normalization:** Used **Layer Normalization** after each fully connected layer to stabilize training.  \n",
    "  - **Fully Connected Layers:** \n",
    "    - `fc1:` 128 neurons.  \n",
    "    - `fc2:` 64 neurons.  \n",
    "    - `fc3:` 32 neurons.  \n",
    "    - `fc_out:` 1 neuron (for final prediction).  \n",
    "  - **Activation:** ReLU for intermediate layers.  \n",
    "- **Best Hyperparameters:**\n",
    "  - **Learning Rate:** 0.0048  \n",
    "  - **Sequence Length:** 24  \n",
    "  - **Batch Size:** 32  \n",
    "\n",
    "### **Results and Analysis**\n",
    "- **Metrics Used:**\n",
    "  - **MAE (Mean Absolute Error):** Measures average error magnitude.  \n",
    "  - **RMSE (Root Mean Square Error):** Penalizes larger errors.  \n",
    "  - **R-squared Score:** Assesses how well predictions match actual data.  \n",
    "- **Performance Summary:**\n",
    "  - Achieved **low validation loss (0.00366)** with the best hyperparameters.  \n",
    "  - **Test R-squared:** **0.9147** indicating the model explains about **91.47%** of the variance in the test data, which suggests **strong predictive performance**.  \n",
    "  - **MAE** and **RMSE** values indicate reasonable accuracy, but some deviations in peak hours suggest model limitations.  \n",
    "\n",
    "**Challenges:**\n",
    "- **Seasonality and Peaks:** Capturing high variability in peak hours.  \n",
    "- **Overfitting:** Mitigated using dropout and layer normalization.  \n",
    "- **Hyperparameter Sensitivity:** Tuning significantly improved loss by focusing on promising regions.  \n",
    "\n",
    "**Error Patterns:**\n",
    "- **Under-prediction:** During peak hours (evenings).  \n",
    "- **Over-prediction:** Early morning hours.  \n",
    "\n",
    "\n",
    "### **Limitations**\n",
    "- **Temporal Context:** Limited sequence length (24 hours) may miss long-term dependencies.  \n",
    "- **Feature Set:** Used only basic features; external data (e.g., weather) could improve predictions.  \n",
    "- **Training Data:** Imbalanced distribution across different hours may affect performance.  \n",
    "\n",
    "\n",
    "### **Potential Improvements and Future Work**\n",
    "1. **Incorporate External Features:**\n",
    "   - Weather, events, or holidays to enhance temporal context.  \n",
    "\n",
    "2. **Advanced Architectures:**\n",
    "   - **Attention Mechanism:** Focus on relevant past time steps.  \n",
    "   - **GRU Layers:** For faster convergence and reduced complexity.  \n",
    "\n",
    "3. **Longer Sequence Length:**\n",
    "   - Experiment with 48 or 72-hour contexts to capture extended patterns.  \n",
    "\n",
    "4. **Sophisticated Preprocessing:**\n",
    "   - Handling outliers and scaling more effectively.  \n",
    "   - Using advanced imputation techniques for missing data.  \n",
    "\n",
    "5. **Regularization Techniques:**\n",
    "   - L2 regularization to reduce overfitting further.  \n",
    "\n",
    "**Summary:**\n",
    "The model performed reasonably well but has potential for improvement by incorporating more features and exploring advanced architectures like attention mechanisms. The hyperparameter tuning via **Optuna** played a crucial role in optimizing performance efficiently.\n",
    "\n",
    "\n",
    "</span>"
   ]
  }
 ],
 "metadata": {
  "kernelspec": {
   "display_name": "Python 3 (ipykernel)",
   "language": "python",
   "name": "python3"
  },
  "language_info": {
   "codemirror_mode": {
    "name": "ipython",
    "version": 3
   },
   "file_extension": ".py",
   "mimetype": "text/x-python",
   "name": "python",
   "nbconvert_exporter": "python",
   "pygments_lexer": "ipython3",
   "version": "3.9.6"
  }
 },
 "nbformat": 4,
 "nbformat_minor": 4
}
